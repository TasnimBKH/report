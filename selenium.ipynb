{
 "cells": [
  {
   "cell_type": "code",
   "execution_count": 1,
   "metadata": {},
   "outputs": [
    {
     "name": "stdout",
     "output_type": "stream",
     "text": [
      "Requirement already satisfied: selenium in e:\\software\\lib\\site-packages (4.2.0)Note: you may need to restart the kernel to use updated packages.\n",
      "Requirement already satisfied: trio-websocket~=0.9 in e:\\software\\lib\\site-packages (from selenium) (0.9.2)\n",
      "Requirement already satisfied: trio~=0.17 in e:\\software\\lib\\site-packages (from selenium) (0.20.0)\n",
      "Requirement already satisfied: urllib3[secure,socks]~=1.26 in e:\\software\\lib\\site-packages (from selenium) (1.26.9)\n",
      "Requirement already satisfied: sniffio in e:\\software\\lib\\site-packages (from trio~=0.17->selenium) (1.2.0)\n",
      "Requirement already satisfied: outcome in e:\\software\\lib\\site-packages (from trio~=0.17->selenium) (1.1.0)\n",
      "Requirement already satisfied: cffi>=1.14 in e:\\software\\lib\\site-packages (from trio~=0.17->selenium) (1.15.0)\n",
      "\n",
      "Requirement already satisfied: sortedcontainers in e:\\software\\lib\\site-packages (from trio~=0.17->selenium) (2.4.0)\n",
      "Requirement already satisfied: attrs>=19.2.0 in e:\\software\\lib\\site-packages (from trio~=0.17->selenium) (21.4.0)\n",
      "Requirement already satisfied: idna in e:\\software\\lib\\site-packages (from trio~=0.17->selenium) (3.3)\n",
      "Requirement already satisfied: async-generator>=1.9 in e:\\software\\lib\\site-packages (from trio~=0.17->selenium) (1.10)\n",
      "Requirement already satisfied: pycparser in e:\\software\\lib\\site-packages (from cffi>=1.14->trio~=0.17->selenium) (2.21)\n",
      "Requirement already satisfied: wsproto>=0.14 in e:\\software\\lib\\site-packages (from trio-websocket~=0.9->selenium) (1.1.0)\n",
      "Requirement already satisfied: cryptography>=1.3.4 in e:\\software\\lib\\site-packages (from urllib3[secure,socks]~=1.26->selenium) (3.4.8)\n",
      "Requirement already satisfied: certifi in e:\\software\\lib\\site-packages (from urllib3[secure,socks]~=1.26->selenium) (2021.10.8)\n",
      "Requirement already satisfied: pyOpenSSL>=0.14 in e:\\software\\lib\\site-packages (from urllib3[secure,socks]~=1.26->selenium) (21.0.0)\n",
      "Requirement already satisfied: PySocks!=1.5.7,<2.0,>=1.5.6 in e:\\software\\lib\\site-packages (from urllib3[secure,socks]~=1.26->selenium) (1.7.1)\n",
      "Requirement already satisfied: six>=1.5.2 in e:\\software\\lib\\site-packages (from pyOpenSSL>=0.14->urllib3[secure,socks]~=1.26->selenium) (1.16.0)\n",
      "Requirement already satisfied: h11<1,>=0.9.0 in e:\\software\\lib\\site-packages (from wsproto>=0.14->trio-websocket~=0.9->selenium) (0.13.0)\n"
     ]
    }
   ],
   "source": [
    "pip install -U selenium"
   ]
  },
  {
   "cell_type": "code",
   "execution_count": 2,
   "metadata": {
    "scrolled": true
   },
   "outputs": [],
   "source": [
    "from selenium import webdriver\n"
   ]
  },
  {
   "cell_type": "code",
   "execution_count": 3,
   "metadata": {},
   "outputs": [],
   "source": [
    "from selenium.webdriver.common.keys import Keys"
   ]
  },
  {
   "cell_type": "code",
   "execution_count": 4,
   "metadata": {},
   "outputs": [
    {
     "name": "stderr",
     "output_type": "stream",
     "text": [
      "C:\\Users\\rafiquel.islam\\AppData\\Local\\Temp\\ipykernel_13140\\75610482.py:1: DeprecationWarning: executable_path has been deprecated, please pass in a Service object\n",
      "  driver = webdriver.Chrome(executable_path='E:\\Software\\chromedriver.exe')\n"
     ]
    },
    {
     "ename": "InvalidArgumentException",
     "evalue": "Message: invalid argument\n  (Session info: chrome=102.0.5005.63)\nStacktrace:\nBacktrace:\n\tOrdinal0 [0x0092D953+2414931]\n\tOrdinal0 [0x008BF5E1+1963489]\n\tOrdinal0 [0x007AC580+836992]\n\tOrdinal0 [0x0079DBD9+777177]\n\tOrdinal0 [0x0079C76F+771951]\n\tOrdinal0 [0x0079CA3D+772669]\n\tOrdinal0 [0x007ADEA4+843428]\n\tOrdinal0 [0x00804EBD+1199805]\n\tOrdinal0 [0x007F449C+1131676]\n\tOrdinal0 [0x00804812+1198098]\n\tOrdinal0 [0x007F42B6+1131190]\n\tOrdinal0 [0x007CE860+976992]\n\tOrdinal0 [0x007CF756+980822]\n\tGetHandleVerifier [0x00B9CC62+2510274]\n\tGetHandleVerifier [0x00B8F760+2455744]\n\tGetHandleVerifier [0x009BEABA+551962]\n\tGetHandleVerifier [0x009BD916+547446]\n\tOrdinal0 [0x008C5F3B+1990459]\n\tOrdinal0 [0x008CA898+2009240]\n\tOrdinal0 [0x008CA985+2009477]\n\tOrdinal0 [0x008D3AD1+2046673]\n\tBaseThreadInitThunk [0x7660FA29+25]\n\tRtlGetAppContainerNamedObjectPath [0x77727A7E+286]\n\tRtlGetAppContainerNamedObjectPath [0x77727A4E+238]\n",
     "output_type": "error",
     "traceback": [
      "\u001b[1;31m---------------------------------------------------------------------------\u001b[0m",
      "\u001b[1;31mInvalidArgumentException\u001b[0m                  Traceback (most recent call last)",
      "Input \u001b[1;32mIn [4]\u001b[0m, in \u001b[0;36m<cell line: 3>\u001b[1;34m()\u001b[0m\n\u001b[0;32m      1\u001b[0m driver \u001b[38;5;241m=\u001b[39m webdriver\u001b[38;5;241m.\u001b[39mChrome(executable_path\u001b[38;5;241m=\u001b[39m\u001b[38;5;124m'\u001b[39m\u001b[38;5;124mE:\u001b[39m\u001b[38;5;124m\\\u001b[39m\u001b[38;5;124mSoftware\u001b[39m\u001b[38;5;124m\\\u001b[39m\u001b[38;5;124mchromedriver.exe\u001b[39m\u001b[38;5;124m'\u001b[39m)\n\u001b[1;32m----> 3\u001b[0m \u001b[43mdriver\u001b[49m\u001b[38;5;241;43m.\u001b[39;49m\u001b[43mget\u001b[49m\u001b[43m(\u001b[49m\u001b[38;5;124;43m\"\u001b[39;49m\u001b[38;5;124;43mwww.//youtube.com\u001b[39;49m\u001b[38;5;124;43m\"\u001b[39;49m\u001b[43m)\u001b[49m\n",
      "File \u001b[1;32mE:\\Software\\lib\\site-packages\\selenium\\webdriver\\remote\\webdriver.py:442\u001b[0m, in \u001b[0;36mWebDriver.get\u001b[1;34m(self, url)\u001b[0m\n\u001b[0;32m    438\u001b[0m \u001b[38;5;28;01mdef\u001b[39;00m \u001b[38;5;21mget\u001b[39m(\u001b[38;5;28mself\u001b[39m, url: \u001b[38;5;28mstr\u001b[39m) \u001b[38;5;241m-\u001b[39m\u001b[38;5;241m>\u001b[39m \u001b[38;5;28;01mNone\u001b[39;00m:\n\u001b[0;32m    439\u001b[0m     \u001b[38;5;124;03m\"\"\"\u001b[39;00m\n\u001b[0;32m    440\u001b[0m \u001b[38;5;124;03m    Loads a web page in the current browser session.\u001b[39;00m\n\u001b[0;32m    441\u001b[0m \u001b[38;5;124;03m    \"\"\"\u001b[39;00m\n\u001b[1;32m--> 442\u001b[0m     \u001b[38;5;28;43mself\u001b[39;49m\u001b[38;5;241;43m.\u001b[39;49m\u001b[43mexecute\u001b[49m\u001b[43m(\u001b[49m\u001b[43mCommand\u001b[49m\u001b[38;5;241;43m.\u001b[39;49m\u001b[43mGET\u001b[49m\u001b[43m,\u001b[49m\u001b[43m \u001b[49m\u001b[43m{\u001b[49m\u001b[38;5;124;43m'\u001b[39;49m\u001b[38;5;124;43murl\u001b[39;49m\u001b[38;5;124;43m'\u001b[39;49m\u001b[43m:\u001b[49m\u001b[43m \u001b[49m\u001b[43murl\u001b[49m\u001b[43m}\u001b[49m\u001b[43m)\u001b[49m\n",
      "File \u001b[1;32mE:\\Software\\lib\\site-packages\\selenium\\webdriver\\remote\\webdriver.py:430\u001b[0m, in \u001b[0;36mWebDriver.execute\u001b[1;34m(self, driver_command, params)\u001b[0m\n\u001b[0;32m    428\u001b[0m response \u001b[38;5;241m=\u001b[39m \u001b[38;5;28mself\u001b[39m\u001b[38;5;241m.\u001b[39mcommand_executor\u001b[38;5;241m.\u001b[39mexecute(driver_command, params)\n\u001b[0;32m    429\u001b[0m \u001b[38;5;28;01mif\u001b[39;00m response:\n\u001b[1;32m--> 430\u001b[0m     \u001b[38;5;28;43mself\u001b[39;49m\u001b[38;5;241;43m.\u001b[39;49m\u001b[43merror_handler\u001b[49m\u001b[38;5;241;43m.\u001b[39;49m\u001b[43mcheck_response\u001b[49m\u001b[43m(\u001b[49m\u001b[43mresponse\u001b[49m\u001b[43m)\u001b[49m\n\u001b[0;32m    431\u001b[0m     response[\u001b[38;5;124m'\u001b[39m\u001b[38;5;124mvalue\u001b[39m\u001b[38;5;124m'\u001b[39m] \u001b[38;5;241m=\u001b[39m \u001b[38;5;28mself\u001b[39m\u001b[38;5;241m.\u001b[39m_unwrap_value(\n\u001b[0;32m    432\u001b[0m         response\u001b[38;5;241m.\u001b[39mget(\u001b[38;5;124m'\u001b[39m\u001b[38;5;124mvalue\u001b[39m\u001b[38;5;124m'\u001b[39m, \u001b[38;5;28;01mNone\u001b[39;00m))\n\u001b[0;32m    433\u001b[0m     \u001b[38;5;28;01mreturn\u001b[39;00m response\n",
      "File \u001b[1;32mE:\\Software\\lib\\site-packages\\selenium\\webdriver\\remote\\errorhandler.py:247\u001b[0m, in \u001b[0;36mErrorHandler.check_response\u001b[1;34m(self, response)\u001b[0m\n\u001b[0;32m    245\u001b[0m         alert_text \u001b[38;5;241m=\u001b[39m value[\u001b[38;5;124m'\u001b[39m\u001b[38;5;124malert\u001b[39m\u001b[38;5;124m'\u001b[39m]\u001b[38;5;241m.\u001b[39mget(\u001b[38;5;124m'\u001b[39m\u001b[38;5;124mtext\u001b[39m\u001b[38;5;124m'\u001b[39m)\n\u001b[0;32m    246\u001b[0m     \u001b[38;5;28;01mraise\u001b[39;00m exception_class(message, screen, stacktrace, alert_text)  \u001b[38;5;66;03m# type: ignore[call-arg]  # mypy is not smart enough here\u001b[39;00m\n\u001b[1;32m--> 247\u001b[0m \u001b[38;5;28;01mraise\u001b[39;00m exception_class(message, screen, stacktrace)\n",
      "\u001b[1;31mInvalidArgumentException\u001b[0m: Message: invalid argument\n  (Session info: chrome=102.0.5005.63)\nStacktrace:\nBacktrace:\n\tOrdinal0 [0x0092D953+2414931]\n\tOrdinal0 [0x008BF5E1+1963489]\n\tOrdinal0 [0x007AC580+836992]\n\tOrdinal0 [0x0079DBD9+777177]\n\tOrdinal0 [0x0079C76F+771951]\n\tOrdinal0 [0x0079CA3D+772669]\n\tOrdinal0 [0x007ADEA4+843428]\n\tOrdinal0 [0x00804EBD+1199805]\n\tOrdinal0 [0x007F449C+1131676]\n\tOrdinal0 [0x00804812+1198098]\n\tOrdinal0 [0x007F42B6+1131190]\n\tOrdinal0 [0x007CE860+976992]\n\tOrdinal0 [0x007CF756+980822]\n\tGetHandleVerifier [0x00B9CC62+2510274]\n\tGetHandleVerifier [0x00B8F760+2455744]\n\tGetHandleVerifier [0x009BEABA+551962]\n\tGetHandleVerifier [0x009BD916+547446]\n\tOrdinal0 [0x008C5F3B+1990459]\n\tOrdinal0 [0x008CA898+2009240]\n\tOrdinal0 [0x008CA985+2009477]\n\tOrdinal0 [0x008D3AD1+2046673]\n\tBaseThreadInitThunk [0x7660FA29+25]\n\tRtlGetAppContainerNamedObjectPath [0x77727A7E+286]\n\tRtlGetAppContainerNamedObjectPath [0x77727A4E+238]\n"
     ]
    }
   ],
   "source": [
    "\n",
    "driver = webdriver.Chrome(executable_path='E:\\Software\\chromedriver.exe')\n",
    "\n",
    "driver.get(\"www.//youtube.com\")\n",
    "#driver.close()\n",
    "\n",
    "\n",
    "\n"
   ]
  },
  {
   "cell_type": "markdown",
   "metadata": {},
   "source": [
    "import os\n",
    "import time\n",
    "\n"
   ]
  },
  {
   "cell_type": "markdown",
   "metadata": {},
   "source": [
    "driver = webdriver.Chrome(executable_path=\"C:\\chromedriver_win32\\chromedriver.exe\")\n",
    "\n",
    "driver.get(\"https://www.youtube.com/\")\n",
    "print(driver.title)\n",
    "\n",
    "driver.get(\"https://www.techlistic.com/\")\n",
    "print(driver.title)\n",
    "time.sleep(5)\n",
    "\n",
    "driver.back()\n",
    "time.sleep(5)\n",
    "driver.forward()\n",
    "driver.get(\"https://chromedriver.chromium.org/\")\n",
    "driver.close()\n"
   ]
  },
  {
   "cell_type": "code",
   "execution_count": 5,
   "metadata": {},
   "outputs": [
    {
     "name": "stderr",
     "output_type": "stream",
     "text": [
      "C:\\Users\\rafiquel.islam\\AppData\\Local\\Temp\\ipykernel_13140\\2669529997.py:7: DeprecationWarning: executable_path has been deprecated, please pass in a Service object\n",
      "  driver = webdriver.Chrome(executable_path=\"C:\\chromedriver_win32\\chromedriver.exe\")\n"
     ]
    },
    {
     "ename": "WebDriverException",
     "evalue": "Message: 'chromedriver.exe' executable needs to be in PATH. Please see https://chromedriver.chromium.org/home\n",
     "output_type": "error",
     "traceback": [
      "\u001b[1;31m---------------------------------------------------------------------------\u001b[0m",
      "\u001b[1;31mFileNotFoundError\u001b[0m                         Traceback (most recent call last)",
      "File \u001b[1;32mE:\\Software\\lib\\site-packages\\selenium\\webdriver\\common\\service.py:71\u001b[0m, in \u001b[0;36mService.start\u001b[1;34m(self)\u001b[0m\n\u001b[0;32m     70\u001b[0m     cmd\u001b[38;5;241m.\u001b[39mextend(\u001b[38;5;28mself\u001b[39m\u001b[38;5;241m.\u001b[39mcommand_line_args())\n\u001b[1;32m---> 71\u001b[0m     \u001b[38;5;28mself\u001b[39m\u001b[38;5;241m.\u001b[39mprocess \u001b[38;5;241m=\u001b[39m \u001b[43msubprocess\u001b[49m\u001b[38;5;241;43m.\u001b[39;49m\u001b[43mPopen\u001b[49m\u001b[43m(\u001b[49m\u001b[43mcmd\u001b[49m\u001b[43m,\u001b[49m\u001b[43m \u001b[49m\u001b[43menv\u001b[49m\u001b[38;5;241;43m=\u001b[39;49m\u001b[38;5;28;43mself\u001b[39;49m\u001b[38;5;241;43m.\u001b[39;49m\u001b[43menv\u001b[49m\u001b[43m,\u001b[49m\n\u001b[0;32m     72\u001b[0m \u001b[43m                                    \u001b[49m\u001b[43mclose_fds\u001b[49m\u001b[38;5;241;43m=\u001b[39;49m\u001b[43msystem\u001b[49m\u001b[43m(\u001b[49m\u001b[43m)\u001b[49m\u001b[43m \u001b[49m\u001b[38;5;241;43m!=\u001b[39;49m\u001b[43m \u001b[49m\u001b[38;5;124;43m'\u001b[39;49m\u001b[38;5;124;43mWindows\u001b[39;49m\u001b[38;5;124;43m'\u001b[39;49m\u001b[43m,\u001b[49m\n\u001b[0;32m     73\u001b[0m \u001b[43m                                    \u001b[49m\u001b[43mstdout\u001b[49m\u001b[38;5;241;43m=\u001b[39;49m\u001b[38;5;28;43mself\u001b[39;49m\u001b[38;5;241;43m.\u001b[39;49m\u001b[43mlog_file\u001b[49m\u001b[43m,\u001b[49m\n\u001b[0;32m     74\u001b[0m \u001b[43m                                    \u001b[49m\u001b[43mstderr\u001b[49m\u001b[38;5;241;43m=\u001b[39;49m\u001b[38;5;28;43mself\u001b[39;49m\u001b[38;5;241;43m.\u001b[39;49m\u001b[43mlog_file\u001b[49m\u001b[43m,\u001b[49m\n\u001b[0;32m     75\u001b[0m \u001b[43m                                    \u001b[49m\u001b[43mstdin\u001b[49m\u001b[38;5;241;43m=\u001b[39;49m\u001b[43mPIPE\u001b[49m\u001b[43m,\u001b[49m\n\u001b[0;32m     76\u001b[0m \u001b[43m                                    \u001b[49m\u001b[43mcreationflags\u001b[49m\u001b[38;5;241;43m=\u001b[39;49m\u001b[38;5;28;43mself\u001b[39;49m\u001b[38;5;241;43m.\u001b[39;49m\u001b[43mcreationflags\u001b[49m\u001b[43m)\u001b[49m\n\u001b[0;32m     77\u001b[0m \u001b[38;5;28;01mexcept\u001b[39;00m \u001b[38;5;167;01mTypeError\u001b[39;00m:\n",
      "File \u001b[1;32mE:\\Software\\lib\\subprocess.py:951\u001b[0m, in \u001b[0;36mPopen.__init__\u001b[1;34m(self, args, bufsize, executable, stdin, stdout, stderr, preexec_fn, close_fds, shell, cwd, env, universal_newlines, startupinfo, creationflags, restore_signals, start_new_session, pass_fds, user, group, extra_groups, encoding, errors, text, umask)\u001b[0m\n\u001b[0;32m    948\u001b[0m             \u001b[38;5;28mself\u001b[39m\u001b[38;5;241m.\u001b[39mstderr \u001b[38;5;241m=\u001b[39m io\u001b[38;5;241m.\u001b[39mTextIOWrapper(\u001b[38;5;28mself\u001b[39m\u001b[38;5;241m.\u001b[39mstderr,\n\u001b[0;32m    949\u001b[0m                     encoding\u001b[38;5;241m=\u001b[39mencoding, errors\u001b[38;5;241m=\u001b[39merrors)\n\u001b[1;32m--> 951\u001b[0m     \u001b[38;5;28;43mself\u001b[39;49m\u001b[38;5;241;43m.\u001b[39;49m\u001b[43m_execute_child\u001b[49m\u001b[43m(\u001b[49m\u001b[43margs\u001b[49m\u001b[43m,\u001b[49m\u001b[43m \u001b[49m\u001b[43mexecutable\u001b[49m\u001b[43m,\u001b[49m\u001b[43m \u001b[49m\u001b[43mpreexec_fn\u001b[49m\u001b[43m,\u001b[49m\u001b[43m \u001b[49m\u001b[43mclose_fds\u001b[49m\u001b[43m,\u001b[49m\n\u001b[0;32m    952\u001b[0m \u001b[43m                        \u001b[49m\u001b[43mpass_fds\u001b[49m\u001b[43m,\u001b[49m\u001b[43m \u001b[49m\u001b[43mcwd\u001b[49m\u001b[43m,\u001b[49m\u001b[43m \u001b[49m\u001b[43menv\u001b[49m\u001b[43m,\u001b[49m\n\u001b[0;32m    953\u001b[0m \u001b[43m                        \u001b[49m\u001b[43mstartupinfo\u001b[49m\u001b[43m,\u001b[49m\u001b[43m \u001b[49m\u001b[43mcreationflags\u001b[49m\u001b[43m,\u001b[49m\u001b[43m \u001b[49m\u001b[43mshell\u001b[49m\u001b[43m,\u001b[49m\n\u001b[0;32m    954\u001b[0m \u001b[43m                        \u001b[49m\u001b[43mp2cread\u001b[49m\u001b[43m,\u001b[49m\u001b[43m \u001b[49m\u001b[43mp2cwrite\u001b[49m\u001b[43m,\u001b[49m\n\u001b[0;32m    955\u001b[0m \u001b[43m                        \u001b[49m\u001b[43mc2pread\u001b[49m\u001b[43m,\u001b[49m\u001b[43m \u001b[49m\u001b[43mc2pwrite\u001b[49m\u001b[43m,\u001b[49m\n\u001b[0;32m    956\u001b[0m \u001b[43m                        \u001b[49m\u001b[43merrread\u001b[49m\u001b[43m,\u001b[49m\u001b[43m \u001b[49m\u001b[43merrwrite\u001b[49m\u001b[43m,\u001b[49m\n\u001b[0;32m    957\u001b[0m \u001b[43m                        \u001b[49m\u001b[43mrestore_signals\u001b[49m\u001b[43m,\u001b[49m\n\u001b[0;32m    958\u001b[0m \u001b[43m                        \u001b[49m\u001b[43mgid\u001b[49m\u001b[43m,\u001b[49m\u001b[43m \u001b[49m\u001b[43mgids\u001b[49m\u001b[43m,\u001b[49m\u001b[43m \u001b[49m\u001b[43muid\u001b[49m\u001b[43m,\u001b[49m\u001b[43m \u001b[49m\u001b[43mumask\u001b[49m\u001b[43m,\u001b[49m\n\u001b[0;32m    959\u001b[0m \u001b[43m                        \u001b[49m\u001b[43mstart_new_session\u001b[49m\u001b[43m)\u001b[49m\n\u001b[0;32m    960\u001b[0m \u001b[38;5;28;01mexcept\u001b[39;00m:\n\u001b[0;32m    961\u001b[0m     \u001b[38;5;66;03m# Cleanup if the child failed starting.\u001b[39;00m\n",
      "File \u001b[1;32mE:\\Software\\lib\\subprocess.py:1420\u001b[0m, in \u001b[0;36mPopen._execute_child\u001b[1;34m(self, args, executable, preexec_fn, close_fds, pass_fds, cwd, env, startupinfo, creationflags, shell, p2cread, p2cwrite, c2pread, c2pwrite, errread, errwrite, unused_restore_signals, unused_gid, unused_gids, unused_uid, unused_umask, unused_start_new_session)\u001b[0m\n\u001b[0;32m   1419\u001b[0m \u001b[38;5;28;01mtry\u001b[39;00m:\n\u001b[1;32m-> 1420\u001b[0m     hp, ht, pid, tid \u001b[38;5;241m=\u001b[39m \u001b[43m_winapi\u001b[49m\u001b[38;5;241;43m.\u001b[39;49m\u001b[43mCreateProcess\u001b[49m\u001b[43m(\u001b[49m\u001b[43mexecutable\u001b[49m\u001b[43m,\u001b[49m\u001b[43m \u001b[49m\u001b[43margs\u001b[49m\u001b[43m,\u001b[49m\n\u001b[0;32m   1421\u001b[0m \u001b[43m                             \u001b[49m\u001b[38;5;66;43;03m# no special security\u001b[39;49;00m\n\u001b[0;32m   1422\u001b[0m \u001b[43m                             \u001b[49m\u001b[38;5;28;43;01mNone\u001b[39;49;00m\u001b[43m,\u001b[49m\u001b[43m \u001b[49m\u001b[38;5;28;43;01mNone\u001b[39;49;00m\u001b[43m,\u001b[49m\n\u001b[0;32m   1423\u001b[0m \u001b[43m                             \u001b[49m\u001b[38;5;28;43mint\u001b[39;49m\u001b[43m(\u001b[49m\u001b[38;5;129;43;01mnot\u001b[39;49;00m\u001b[43m \u001b[49m\u001b[43mclose_fds\u001b[49m\u001b[43m)\u001b[49m\u001b[43m,\u001b[49m\n\u001b[0;32m   1424\u001b[0m \u001b[43m                             \u001b[49m\u001b[43mcreationflags\u001b[49m\u001b[43m,\u001b[49m\n\u001b[0;32m   1425\u001b[0m \u001b[43m                             \u001b[49m\u001b[43menv\u001b[49m\u001b[43m,\u001b[49m\n\u001b[0;32m   1426\u001b[0m \u001b[43m                             \u001b[49m\u001b[43mcwd\u001b[49m\u001b[43m,\u001b[49m\n\u001b[0;32m   1427\u001b[0m \u001b[43m                             \u001b[49m\u001b[43mstartupinfo\u001b[49m\u001b[43m)\u001b[49m\n\u001b[0;32m   1428\u001b[0m \u001b[38;5;28;01mfinally\u001b[39;00m:\n\u001b[0;32m   1429\u001b[0m     \u001b[38;5;66;03m# Child is launched. Close the parent's copy of those pipe\u001b[39;00m\n\u001b[0;32m   1430\u001b[0m     \u001b[38;5;66;03m# handles that only the child should have open.  You need\u001b[39;00m\n\u001b[1;32m   (...)\u001b[0m\n\u001b[0;32m   1433\u001b[0m     \u001b[38;5;66;03m# pipe will not close when the child process exits and the\u001b[39;00m\n\u001b[0;32m   1434\u001b[0m     \u001b[38;5;66;03m# ReadFile will hang.\u001b[39;00m\n",
      "\u001b[1;31mFileNotFoundError\u001b[0m: [WinError 2] The system cannot find the file specified",
      "\nDuring handling of the above exception, another exception occurred:\n",
      "\u001b[1;31mWebDriverException\u001b[0m                        Traceback (most recent call last)",
      "Input \u001b[1;32mIn [5]\u001b[0m, in \u001b[0;36m<cell line: 7>\u001b[1;34m()\u001b[0m\n\u001b[0;32m      2\u001b[0m \u001b[38;5;28;01mfrom\u001b[39;00m \u001b[38;5;21;01mselenium\u001b[39;00m\u001b[38;5;21;01m.\u001b[39;00m\u001b[38;5;21;01mwebdriver\u001b[39;00m\u001b[38;5;21;01m.\u001b[39;00m\u001b[38;5;21;01msupport\u001b[39;00m\u001b[38;5;21;01m.\u001b[39;00m\u001b[38;5;21;01mui\u001b[39;00m \u001b[38;5;28;01mimport\u001b[39;00m Select\n\u001b[0;32m      3\u001b[0m \u001b[38;5;28;01mfrom\u001b[39;00m \u001b[38;5;21;01mselenium\u001b[39;00m\u001b[38;5;21;01m.\u001b[39;00m\u001b[38;5;21;01mwebdriver\u001b[39;00m \u001b[38;5;28;01mimport\u001b[39;00m ActionChains\n\u001b[1;32m----> 7\u001b[0m driver \u001b[38;5;241m=\u001b[39m \u001b[43mwebdriver\u001b[49m\u001b[38;5;241;43m.\u001b[39;49m\u001b[43mChrome\u001b[49m\u001b[43m(\u001b[49m\u001b[43mexecutable_path\u001b[49m\u001b[38;5;241;43m=\u001b[39;49m\u001b[38;5;124;43m\"\u001b[39;49m\u001b[38;5;124;43mC:\u001b[39;49m\u001b[38;5;124;43m\\\u001b[39;49m\u001b[38;5;124;43mchromedriver_win32\u001b[39;49m\u001b[38;5;124;43m\\\u001b[39;49m\u001b[38;5;124;43mchromedriver.exe\u001b[39;49m\u001b[38;5;124;43m\"\u001b[39;49m\u001b[43m)\u001b[49m\n\u001b[0;32m      8\u001b[0m driver\u001b[38;5;241m.\u001b[39mget(\u001b[38;5;124m\"\u001b[39m\u001b[38;5;124mhttp://192.168.20.159/FinUltimusSPARKTEST/\u001b[39m\u001b[38;5;124m\"\u001b[39m)\n\u001b[0;32m      9\u001b[0m user_ele\u001b[38;5;241m=\u001b[39mdriver\u001b[38;5;241m.\u001b[39mfind_element_by_name(\u001b[38;5;124m\"\u001b[39m\u001b[38;5;124mUserId\u001b[39m\u001b[38;5;124m\"\u001b[39m)\n",
      "File \u001b[1;32mE:\\Software\\lib\\site-packages\\selenium\\webdriver\\chrome\\webdriver.py:70\u001b[0m, in \u001b[0;36mWebDriver.__init__\u001b[1;34m(self, executable_path, port, options, service_args, desired_capabilities, service_log_path, chrome_options, service, keep_alive)\u001b[0m\n\u001b[0;32m     67\u001b[0m \u001b[38;5;28;01mif\u001b[39;00m \u001b[38;5;129;01mnot\u001b[39;00m service:\n\u001b[0;32m     68\u001b[0m     service \u001b[38;5;241m=\u001b[39m Service(executable_path, port, service_args, service_log_path)\n\u001b[1;32m---> 70\u001b[0m \u001b[38;5;28;43msuper\u001b[39;49m\u001b[43m(\u001b[49m\u001b[43mWebDriver\u001b[49m\u001b[43m,\u001b[49m\u001b[43m \u001b[49m\u001b[38;5;28;43mself\u001b[39;49m\u001b[43m)\u001b[49m\u001b[38;5;241;43m.\u001b[39;49m\u001b[38;5;21;43m__init__\u001b[39;49m\u001b[43m(\u001b[49m\u001b[43mDesiredCapabilities\u001b[49m\u001b[38;5;241;43m.\u001b[39;49m\u001b[43mCHROME\u001b[49m\u001b[43m[\u001b[49m\u001b[38;5;124;43m'\u001b[39;49m\u001b[38;5;124;43mbrowserName\u001b[39;49m\u001b[38;5;124;43m'\u001b[39;49m\u001b[43m]\u001b[49m\u001b[43m,\u001b[49m\u001b[43m \u001b[49m\u001b[38;5;124;43m\"\u001b[39;49m\u001b[38;5;124;43mgoog\u001b[39;49m\u001b[38;5;124;43m\"\u001b[39;49m\u001b[43m,\u001b[49m\n\u001b[0;32m     71\u001b[0m \u001b[43m                                \u001b[49m\u001b[43mport\u001b[49m\u001b[43m,\u001b[49m\u001b[43m \u001b[49m\u001b[43moptions\u001b[49m\u001b[43m,\u001b[49m\n\u001b[0;32m     72\u001b[0m \u001b[43m                                \u001b[49m\u001b[43mservice_args\u001b[49m\u001b[43m,\u001b[49m\u001b[43m \u001b[49m\u001b[43mdesired_capabilities\u001b[49m\u001b[43m,\u001b[49m\n\u001b[0;32m     73\u001b[0m \u001b[43m                                \u001b[49m\u001b[43mservice_log_path\u001b[49m\u001b[43m,\u001b[49m\u001b[43m \u001b[49m\u001b[43mservice\u001b[49m\u001b[43m,\u001b[49m\u001b[43m \u001b[49m\u001b[43mkeep_alive\u001b[49m\u001b[43m)\u001b[49m\n",
      "File \u001b[1;32mE:\\Software\\lib\\site-packages\\selenium\\webdriver\\chromium\\webdriver.py:89\u001b[0m, in \u001b[0;36mChromiumDriver.__init__\u001b[1;34m(self, browser_name, vendor_prefix, port, options, service_args, desired_capabilities, service_log_path, service, keep_alive)\u001b[0m\n\u001b[0;32m     86\u001b[0m     \u001b[38;5;28;01mraise\u001b[39;00m \u001b[38;5;167;01mAttributeError\u001b[39;00m(\u001b[38;5;124m'\u001b[39m\u001b[38;5;124mservice cannot be None\u001b[39m\u001b[38;5;124m'\u001b[39m)\n\u001b[0;32m     88\u001b[0m \u001b[38;5;28mself\u001b[39m\u001b[38;5;241m.\u001b[39mservice \u001b[38;5;241m=\u001b[39m service\n\u001b[1;32m---> 89\u001b[0m \u001b[38;5;28;43mself\u001b[39;49m\u001b[38;5;241;43m.\u001b[39;49m\u001b[43mservice\u001b[49m\u001b[38;5;241;43m.\u001b[39;49m\u001b[43mstart\u001b[49m\u001b[43m(\u001b[49m\u001b[43m)\u001b[49m\n\u001b[0;32m     91\u001b[0m \u001b[38;5;28;01mtry\u001b[39;00m:\n\u001b[0;32m     92\u001b[0m     RemoteWebDriver\u001b[38;5;241m.\u001b[39m\u001b[38;5;21m__init__\u001b[39m(\n\u001b[0;32m     93\u001b[0m         \u001b[38;5;28mself\u001b[39m,\n\u001b[0;32m     94\u001b[0m         command_executor\u001b[38;5;241m=\u001b[39mChromiumRemoteConnection(\n\u001b[1;32m   (...)\u001b[0m\n\u001b[0;32m     97\u001b[0m             keep_alive\u001b[38;5;241m=\u001b[39mkeep_alive, ignore_proxy\u001b[38;5;241m=\u001b[39m_ignore_proxy),\n\u001b[0;32m     98\u001b[0m         options\u001b[38;5;241m=\u001b[39moptions)\n",
      "File \u001b[1;32mE:\\Software\\lib\\site-packages\\selenium\\webdriver\\common\\service.py:81\u001b[0m, in \u001b[0;36mService.start\u001b[1;34m(self)\u001b[0m\n\u001b[0;32m     79\u001b[0m \u001b[38;5;28;01mexcept\u001b[39;00m \u001b[38;5;167;01mOSError\u001b[39;00m \u001b[38;5;28;01mas\u001b[39;00m err:\n\u001b[0;32m     80\u001b[0m     \u001b[38;5;28;01mif\u001b[39;00m err\u001b[38;5;241m.\u001b[39merrno \u001b[38;5;241m==\u001b[39m errno\u001b[38;5;241m.\u001b[39mENOENT:\n\u001b[1;32m---> 81\u001b[0m         \u001b[38;5;28;01mraise\u001b[39;00m WebDriverException(\n\u001b[0;32m     82\u001b[0m             \u001b[38;5;124m\"\u001b[39m\u001b[38;5;124m'\u001b[39m\u001b[38;5;132;01m%s\u001b[39;00m\u001b[38;5;124m'\u001b[39m\u001b[38;5;124m executable needs to be in PATH. \u001b[39m\u001b[38;5;132;01m%s\u001b[39;00m\u001b[38;5;124m\"\u001b[39m \u001b[38;5;241m%\u001b[39m (\n\u001b[0;32m     83\u001b[0m                 os\u001b[38;5;241m.\u001b[39mpath\u001b[38;5;241m.\u001b[39mbasename(\u001b[38;5;28mself\u001b[39m\u001b[38;5;241m.\u001b[39mpath), \u001b[38;5;28mself\u001b[39m\u001b[38;5;241m.\u001b[39mstart_error_message)\n\u001b[0;32m     84\u001b[0m         )\n\u001b[0;32m     85\u001b[0m     \u001b[38;5;28;01melif\u001b[39;00m err\u001b[38;5;241m.\u001b[39merrno \u001b[38;5;241m==\u001b[39m errno\u001b[38;5;241m.\u001b[39mEACCES:\n\u001b[0;32m     86\u001b[0m         \u001b[38;5;28;01mraise\u001b[39;00m WebDriverException(\n\u001b[0;32m     87\u001b[0m             \u001b[38;5;124m\"\u001b[39m\u001b[38;5;124m'\u001b[39m\u001b[38;5;132;01m%s\u001b[39;00m\u001b[38;5;124m'\u001b[39m\u001b[38;5;124m executable may have wrong permissions. \u001b[39m\u001b[38;5;132;01m%s\u001b[39;00m\u001b[38;5;124m\"\u001b[39m \u001b[38;5;241m%\u001b[39m (\n\u001b[0;32m     88\u001b[0m                 os\u001b[38;5;241m.\u001b[39mpath\u001b[38;5;241m.\u001b[39mbasename(\u001b[38;5;28mself\u001b[39m\u001b[38;5;241m.\u001b[39mpath), \u001b[38;5;28mself\u001b[39m\u001b[38;5;241m.\u001b[39mstart_error_message)\n\u001b[0;32m     89\u001b[0m         )\n",
      "\u001b[1;31mWebDriverException\u001b[0m: Message: 'chromedriver.exe' executable needs to be in PATH. Please see https://chromedriver.chromium.org/home\n"
     ]
    }
   ],
   "source": [
    "from selenium.webdriver.common.keys import Keys\n",
    "from selenium.webdriver.support.ui import Select\n",
    "from selenium.webdriver import ActionChains\n",
    "\n",
    "\n",
    "\n",
    "driver = webdriver.Chrome(executable_path=\"C:\\chromedriver_win32\\chromedriver.exe\")\n",
    "driver.get(\"http://192.168.20.159/FinUltimusSPARKTEST/\")\n",
    "user_ele=driver.find_element_by_name(\"UserId\")\n",
    "#print(user_ele.is_displayed())\n",
    "#print(user_ele.is_enabled())\n",
    "pass_ele=driver.find_element_by_name(\"PasswordString\")\n",
    "#print(pass_ele.is_displayed())\n",
    "#print(pass_ele.is_enabled())\n",
    "\n",
    "\n",
    "\n",
    "user_ele.send_keys(\"admin1\")\n",
    "pass_ele.send_keys(\"1\")\n",
    "pass_ele=driver.find_element_by_name(\"PasswordString\")\n",
    "xx=driver.find_element_by_id(\"btnlogin\").click()\n",
    "#print(xx.is_displayed())\n",
    "#print(xx.is_enabled())\n",
    "#rpt=driver.find_element_by_name(\"ctl00$ddlMenutype\")\n",
    "drp=Select(driver.find_element_by_name(\"ctl00$ddlMenutype\"))\n",
    "#driver.find_element_by_value(\"R\").click()\n",
    "drp.select_by_value(\"R\")\n",
    "ser_ele=driver.find_element_by_id(\"txtMenuSearch\")\n",
    "ser_ele.send_keys(\"9309\")\n",
    "ser_ele.send_keys(Keys.ENTER)\n",
    "#yy=driver.find_element_by_id(\"btnImgSearch\").click()\n",
    "action = ActionChains(driver)\n",
    "acc_ele=driver.find_element_by_id(\"ctl00_contPlcHdrMasterHolder_PACCOUNT_NO\")\n",
    "acc_ele.send_keys(\"1604604000001\")\n",
    "#.sendKeys(Keys.chord(Keys.ALT, \"O\"))\n",
    "ok_ele=driver.find_element_by_name(\"ctl00$contPlcHdrMasterHolder$btnOK\").click()\n",
    "\n",
    "#a = ActionChains(driver)\n",
    "#a.key_down(Keys.CONTROL).send_keys('O')\n",
    "\n",
    "print(driver.current_window_handle)\n",
    "handle=driver.window_handles\n",
    "\n",
    "print(handle)\n",
    "#x=handle[1]\n",
    "#driver.switch_to.window(\"x\")\n",
    "#print(driver.title())\n",
    "#print(x)\n",
    "#for i in handle:\n",
    "    #print(i.title)\n",
    "print(driver.title)\n",
    "window_after = driver.window_handles[1]\n",
    "print(window_after)\n",
    "driver.switch_to.window(window_after)\n",
    "print(\"after switch\",driver.title)\n",
    "suc_ele=driver.find_elements_by_tag_name('body')\n",
    "fal_ele=driver.find_elements_by_tag_name('form')\n",
    "print(\"success\", fal_ele)\n",
    "print(\"fail\" ,len(fal_ele))\n",
    "if len(fal_ele)==0:\n",
    "    print(\"successfully show the report\")    \n",
    "else:\n",
    "    print(\"failed to show report\")  \n",
    "\n",
    "driver.close()\n",
    "window_before = driver.window_handles[0]\n",
    "driver.switch_to.window(window_before)\n",
    "print(driver.current_window_handle)\n",
    "\n",
    "\n"
   ]
  },
  {
   "cell_type": "markdown",
   "metadata": {},
   "source": [
    "# Read data From excel\n"
   ]
  },
  {
   "cell_type": "code",
   "execution_count": null,
   "metadata": {},
   "outputs": [],
   "source": [
    "from selenium.webdriver.common.keys import Keys\n",
    "from selenium.webdriver.support.ui import Select\n",
    "from selenium.webdriver import ActionChains\n",
    "\n",
    "\n",
    "\n",
    "driver = webdriver.Chrome(executable_path=\"C:\\chromedriver_win32\\chromedriver.exe\")\n",
    "driver.get(\"http://192.168.20.159/FinUltimusSPARKTEST/\")\n",
    "user_ele=driver.find_element_by_name(\"UserId\")\n",
    "#print(user_ele.is_displayed())\n",
    "#print(user_ele.is_enabled())\n",
    "pass_ele=driver.find_element_by_name(\"PasswordString\")\n",
    "#print(pass_ele.is_displayed())\n",
    "#print(pass_ele.is_enabled())\n",
    "\n",
    "\n",
    "\n",
    "user_ele.send_keys(\"admin1\")\n",
    "pass_ele.send_keys(\"1\")\n",
    "pass_ele=driver.find_element_by_name(\"PasswordString\")\n",
    "xx=driver.find_element_by_id(\"btnlogin\").click()\n",
    "#print(xx.is_displayed())\n",
    "#print(xx.is_enabled())\n",
    "#rpt=driver.find_element_by_name(\"ctl00$ddlMenutype\")\n",
    "drp=Select(driver.find_element_by_name(\"ctl00$ddlMenutype\"))\n",
    "#driver.find_element_by_value(\"R\").click()\n",
    "drp.select_by_value(\"R\")\n",
    "ser_ele=driver.find_element_by_id(\"txtMenuSearch\")\n",
    "ser_ele.send_keys(\"9309\")\n",
    "ser_ele.send_keys(Keys.ENTER)\n",
    "#yy=driver.find_element_by_id(\"btnImgSearch\").click()\n",
    "action = ActionChains(driver)\n",
    "acc_ele=driver.find_element_by_id(\"ctl00_contPlcHdrMasterHolder_PACCOUNT_NO\")\n",
    "acc_ele.send_keys(\"1604604000001\")\n",
    "#.sendKeys(Keys.chord(Keys.ALT, \"O\"))\n",
    "ok_ele=driver.find_element_by_name(\"ctl00$contPlcHdrMasterHolder$btnOK\").click()\n",
    "\n",
    "#a = ActionChains(driver)\n",
    "#a.key_down(Keys.CONTROL).send_keys('O')\n",
    "\n",
    "print(driver.current_window_handle)\n",
    "handle=driver.window_handles\n",
    "\n",
    "print(handle)\n",
    "#x=handle[1]\n",
    "#driver.switch_to.window(\"x\")\n",
    "#print(driver.title())\n",
    "#print(x)\n",
    "#for i in handle:\n",
    "    #print(i.title)\n",
    "print(driver.title)\n",
    "window_after = driver.window_handles[1]\n",
    "print(window_after)\n",
    "driver.switch_to.window(window_after)\n",
    "print(\"after switch\",driver.title)\n",
    "suc_ele=driver.find_elements_by_tag_name('body')\n",
    "fal_ele=driver.find_elements_by_tag_name('form')\n",
    "print(\"success\", fal_ele)\n",
    "print(\"fail\" ,len(fal_ele))\n",
    "if len(fal_ele)==0:\n",
    "    print(\"successfully show the report\")    \n",
    "else:\n",
    "    print(\"failed to show report\")  \n",
    "\n",
    "driver.close()\n",
    "window_before = driver.window_handles[0]\n",
    "driver.switch_to.window(window_before)\n",
    "print(driver.current_window_handle)\n"
   ]
  },
  {
   "cell_type": "code",
   "execution_count": null,
   "metadata": {},
   "outputs": [],
   "source": [
    "import pandas as pd\n",
    "import csv\n"
   ]
  },
  {
   "cell_type": "code",
   "execution_count": null,
   "metadata": {},
   "outputs": [],
   "source": [
    "pip install --user openpyxl"
   ]
  },
  {
   "cell_type": "code",
   "execution_count": null,
   "metadata": {},
   "outputs": [],
   "source": [
    "import openpyxl\n",
    "path=\"D://report_data_9303.xlsx\"\n",
    "df=openpyxl.load_workbook(path)\n",
    "sheet_read=df.active\n",
    "#print(sheet.max_row)\n",
    "#print(sheet.max_column)\n",
    "print(sheet_read.cell(2,1).value)\n"
   ]
  },
  {
   "cell_type": "code",
   "execution_count": null,
   "metadata": {},
   "outputs": [],
   "source": [
    "import openpyxl\n",
    "path=\"D://result.xlsx\"\n",
    "df=openpyxl.load_workbook(path)\n",
    "sheet=df.active\n",
    "for i in range(1,20):\n",
    "    for j in range(1,2):\n",
    "        if(sheet.cell(i,j).value==None ):\n",
    "             sheet.cell(i,j).value=\"Success\"\n",
    "        else:\n",
    "            sheet.cell(i,j).value=\"Failed\"\n",
    "            \n",
    "           \n",
    "        \n",
    "df.save(path)"
   ]
  },
  {
   "cell_type": "markdown",
   "metadata": {},
   "source": [
    "# Write data to excel"
   ]
  },
  {
   "cell_type": "code",
   "execution_count": null,
   "metadata": {},
   "outputs": [],
   "source": [
    "from selenium.webdriver.common.keys import Keys\n",
    "from selenium.webdriver.support.ui import Select\n",
    "from selenium.webdriver import ActionChains\n",
    "\n",
    "\n",
    "\n",
    "driver = webdriver.Chrome(executable_path=\"C:\\chromedriver_win32\\chromedriver.exe\")\n",
    "driver.get(\"http://192.168.20.159/FinUltimusSPARKTEST/\")\n",
    "user_ele=driver.find_element_by_name(\"UserId\")\n",
    "#print(user_ele.is_displayed())\n",
    "#print(user_ele.is_enabled())\n",
    "pass_ele=driver.find_element_by_name(\"PasswordString\")\n",
    "#print(pass_ele.is_displayed())\n",
    "#print(pass_ele.is_enabled())\n",
    "\n",
    "\n",
    "\n",
    "user_ele.send_keys(\"admin1\")\n",
    "pass_ele.send_keys(\"1\")\n",
    "pass_ele=driver.find_element_by_name(\"PasswordString\")\n",
    "xx=driver.find_element_by_id(\"btnlogin\").click()\n",
    "#print(xx.is_displayed())\n",
    "#print(xx.is_enabled())\n",
    "#rpt=driver.find_element_by_name(\"ctl00$ddlMenutype\")\n",
    "drp=Select(driver.find_element_by_name(\"ctl00$ddlMenutype\"))\n",
    "#driver.find_element_by_value(\"R\").click()\n",
    "drp.select_by_value(\"R\")\n",
    "ser_ele=driver.find_element_by_id(\"txtMenuSearch\")\n",
    "search=ser_ele.send_keys(\"9309\")\n",
    "ser_ele.send_keys(Keys.ENTER)\n",
    "#yy=driver.find_element_by_id(\"btnImgSearch\").click()\n",
    "action = ActionChains(driver)\n",
    "acc_ele=driver.find_element_by_id(\"ctl00_contPlcHdrMasterHolder_PACCOUNT_NO\")\n",
    "acc_ele.send_keys(\"1604604000001\")\n",
    "#.sendKeys(Keys.chord(Keys.ALT, \"O\"))\n",
    "ok_ele=driver.find_element_by_name(\"ctl00$contPlcHdrMasterHolder$btnOK\").click()\n",
    "\n",
    "#a = ActionChains(driver)\n",
    "#a.key_down(Keys.CONTROL).send_keys('O')\n",
    "\n",
    "print(driver.current_window_handle)\n",
    "handle=driver.window_handles\n",
    "\n",
    "print(handle)\n",
    "#x=handle[1]\n",
    "#driver.switch_to.window(\"x\")\n",
    "#print(driver.title())\n",
    "#print(x)\n",
    "#for i in handle:\n",
    "    #print(i.title)\n",
    "print(driver.title)\n",
    "window_after = driver.window_handles[1]\n",
    "print(window_after)\n",
    "driver.switch_to.window(window_after)\n",
    "print(\"after switch\",driver.title)\n",
    "suc_ele=driver.find_elements_by_tag_name('body')\n",
    "fal_ele=driver.find_elements_by_tag_name('form')\n",
    "print(\"success\", fal_ele)\n",
    "print(\"fail\" ,len(fal_ele))\n",
    "if len(fal_ele)==0:\n",
    "    print(\"successfully show the report\")    \n",
    "else:\n",
    "    print(\"failed to show report\")  \n",
    "\n",
    "driver.close()\n",
    "window_before = driver.window_handles[0]\n",
    "driver.switch_to.window(window_before)\n",
    "print(driver.current_window_handle)\n",
    "\n",
    "\n",
    "path=\"D://result.xlsx\"\n",
    "df=openpyxl.load_workbook(path)\n",
    "sheet=df.active\n",
    "for i in range(1,20):\n",
    "    for j in range(1,2):\n",
    "        if(sheet.cell(i,j).value==None ):\n",
    "             sheet.cell(i,j).value=\"Success\"\n",
    "        else:\n",
    "            sheet.cell(i,j).value=\"Failed\"\n",
    "          \n",
    "        \n",
    "df.save(path)\n",
    "\n"
   ]
  },
  {
   "cell_type": "markdown",
   "metadata": {},
   "source": [
    "# Write data to excel successfully"
   ]
  },
  {
   "cell_type": "code",
   "execution_count": null,
   "metadata": {},
   "outputs": [],
   "source": [
    "from selenium.webdriver.common.keys import Keys\n",
    "from selenium.webdriver.support.ui import Select\n",
    "from selenium.webdriver import ActionChains\n",
    "\n",
    "\n",
    "\n",
    "driver = webdriver.Chrome(executable_path=\"C:\\chromedriver_win32\\chromedriver.exe\")\n",
    "driver.get(\"http://192.168.20.159/FinUltimusSPARKTEST/\")\n",
    "user_ele=driver.find_element_by_name(\"UserId\")\n",
    "#print(user_ele.is_displayed())\n",
    "#print(user_ele.is_enabled())\n",
    "pass_ele=driver.find_element_by_name(\"PasswordString\")\n",
    "#print(pass_ele.is_displayed())\n",
    "#print(pass_ele.is_enabled())\n",
    "\n",
    "\n",
    "\n",
    "user_ele.send_keys(\"admin1\")\n",
    "pass_ele.send_keys(\"1\")\n",
    "pass_ele=driver.find_element_by_name(\"PasswordString\")\n",
    "driver.find_element_by_id(\"btnlogin\").click()\n",
    "#print(xx.is_displayed())\n",
    "#print(xx.is_enabled())\n",
    "#rpt=driver.find_element_by_name(\"ctl00$ddlMenutype\")\n",
    "print\n",
    "drp=Select(driver.find_element_by_name(\"ctl00$ddlMenutype\"))\n",
    "#driver.find_element_by_value(\"R\").click()\n",
    "drp.select_by_value(\"R\")\n",
    "ser_ele=driver.find_element_by_id(\"txtMenuSearch\")\n",
    "v_search=9309\n",
    "v_search2=list[9309,9302]\n",
    "ser_ele.send_keys(v_search)\n",
    "ser_ele.send_keys(Keys.ENTER)\n",
    "#yy=driver.find_element_by_id(\"btnImgSearch\").click()\n",
    "action = ActionChains(driver)\n",
    "acc_ele=driver.find_element_by_id(\"ctl00_contPlcHdrMasterHolder_PACCOUNT_NO\")\n",
    "acc_ele.send_keys(\"1604604000001\")\n",
    "#.sendKeys(Keys.chord(Keys.ALT, \"O\"))\n",
    "ok_ele=driver.find_element_by_name(\"ctl00$contPlcHdrMasterHolder$btnOK\").click()\n",
    "\n",
    "#a = ActionChains(driver)\n",
    "#a.key_down(Keys.CONTROL).send_keys('O')\n",
    "\n",
    "print(driver.current_window_handle)\n",
    "handle=driver.window_handles\n",
    "\n",
    "print(handle)\n",
    "#x=handle[1]\n",
    "#driver.switch_to.window(\"x\")\n",
    "#print(driver.title())\n",
    "#print(x)\n",
    "#for i in handle:\n",
    "    #print(i.title)\n",
    "print(driver.title)\n",
    "window_after = driver.window_handles[1]\n",
    "print(window_after)\n",
    "driver.switch_to.window(window_after)\n",
    "print(\"after switch\",driver.title)\n",
    "suc_ele=driver.find_elements_by_tag_name('body')\n",
    "fal_ele=driver.find_elements_by_tag_name('form')\n",
    "#print(\"success\", fal_ele)\n",
    "#print(\"fail\" ,len(fal_ele))\n",
    "\n",
    "\n",
    "#data write to excel\n",
    "import openpyxl\n",
    "path=\"D://result.xlsx\"\n",
    "df=openpyxl.load_workbook(path)\n",
    "sheet=df.active\n",
    "for i in range(1,20):\n",
    "    for j in range(1,2):\n",
    "        if(sheet.cell(i,j).value==v_search ):\n",
    "            if len(fal_ele)==0:\n",
    "                sheet.cell(i,j+1).value=\"Success\"\n",
    "            else:\n",
    "                sheet.cell(i,j+1).value=\"Failed\"\n",
    "            \n",
    "             \n",
    "        else:\n",
    "            break\n",
    "        \n",
    "df.save(path)\n",
    "\n",
    "\n",
    "if len(fal_ele)==0:\n",
    "    print(\"successfully show the report\")    \n",
    "else:\n",
    "    print(\"failed to show report\")  \n",
    "\n",
    "#driver.close()\n",
    "window_before = driver.window_handles[0]\n",
    "driver.switch_to.window(window_before)\n",
    "print(driver.current_window_handle)\n"
   ]
  },
  {
   "cell_type": "code",
   "execution_count": null,
   "metadata": {},
   "outputs": [],
   "source": []
  },
  {
   "cell_type": "code",
   "execution_count": null,
   "metadata": {},
   "outputs": [],
   "source": []
  },
  {
   "cell_type": "code",
   "execution_count": null,
   "metadata": {},
   "outputs": [],
   "source": []
  },
  {
   "cell_type": "code",
   "execution_count": null,
   "metadata": {},
   "outputs": [],
   "source": []
  },
  {
   "cell_type": "code",
   "execution_count": null,
   "metadata": {},
   "outputs": [],
   "source": []
  },
  {
   "cell_type": "code",
   "execution_count": null,
   "metadata": {},
   "outputs": [],
   "source": []
  },
  {
   "cell_type": "code",
   "execution_count": null,
   "metadata": {},
   "outputs": [],
   "source": []
  },
  {
   "cell_type": "code",
   "execution_count": null,
   "metadata": {},
   "outputs": [],
   "source": []
  },
  {
   "cell_type": "code",
   "execution_count": null,
   "metadata": {},
   "outputs": [],
   "source": []
  },
  {
   "cell_type": "code",
   "execution_count": null,
   "metadata": {},
   "outputs": [],
   "source": []
  },
  {
   "cell_type": "code",
   "execution_count": null,
   "metadata": {},
   "outputs": [],
   "source": []
  },
  {
   "cell_type": "code",
   "execution_count": null,
   "metadata": {},
   "outputs": [],
   "source": []
  },
  {
   "cell_type": "code",
   "execution_count": null,
   "metadata": {},
   "outputs": [],
   "source": []
  },
  {
   "cell_type": "code",
   "execution_count": null,
   "metadata": {},
   "outputs": [],
   "source": []
  },
  {
   "cell_type": "code",
   "execution_count": null,
   "metadata": {},
   "outputs": [],
   "source": []
  },
  {
   "cell_type": "code",
   "execution_count": null,
   "metadata": {},
   "outputs": [],
   "source": []
  },
  {
   "cell_type": "code",
   "execution_count": null,
   "metadata": {},
   "outputs": [],
   "source": []
  },
  {
   "cell_type": "code",
   "execution_count": null,
   "metadata": {},
   "outputs": [],
   "source": []
  },
  {
   "cell_type": "code",
   "execution_count": null,
   "metadata": {},
   "outputs": [],
   "source": []
  },
  {
   "cell_type": "code",
   "execution_count": null,
   "metadata": {},
   "outputs": [],
   "source": []
  },
  {
   "cell_type": "code",
   "execution_count": null,
   "metadata": {},
   "outputs": [],
   "source": []
  },
  {
   "cell_type": "code",
   "execution_count": null,
   "metadata": {},
   "outputs": [],
   "source": []
  },
  {
   "cell_type": "code",
   "execution_count": null,
   "metadata": {},
   "outputs": [],
   "source": []
  },
  {
   "cell_type": "code",
   "execution_count": null,
   "metadata": {},
   "outputs": [],
   "source": []
  },
  {
   "cell_type": "code",
   "execution_count": null,
   "metadata": {},
   "outputs": [],
   "source": []
  },
  {
   "cell_type": "code",
   "execution_count": null,
   "metadata": {},
   "outputs": [],
   "source": []
  },
  {
   "cell_type": "code",
   "execution_count": null,
   "metadata": {},
   "outputs": [],
   "source": []
  },
  {
   "cell_type": "code",
   "execution_count": null,
   "metadata": {},
   "outputs": [],
   "source": []
  },
  {
   "cell_type": "code",
   "execution_count": null,
   "metadata": {},
   "outputs": [],
   "source": []
  },
  {
   "cell_type": "code",
   "execution_count": null,
   "metadata": {},
   "outputs": [],
   "source": []
  },
  {
   "cell_type": "code",
   "execution_count": null,
   "metadata": {},
   "outputs": [],
   "source": []
  },
  {
   "cell_type": "code",
   "execution_count": null,
   "metadata": {},
   "outputs": [],
   "source": []
  },
  {
   "cell_type": "code",
   "execution_count": null,
   "metadata": {},
   "outputs": [],
   "source": []
  },
  {
   "cell_type": "code",
   "execution_count": null,
   "metadata": {},
   "outputs": [],
   "source": []
  },
  {
   "cell_type": "code",
   "execution_count": null,
   "metadata": {},
   "outputs": [],
   "source": []
  },
  {
   "cell_type": "code",
   "execution_count": null,
   "metadata": {},
   "outputs": [],
   "source": []
  },
  {
   "cell_type": "code",
   "execution_count": null,
   "metadata": {},
   "outputs": [],
   "source": []
  },
  {
   "cell_type": "code",
   "execution_count": null,
   "metadata": {},
   "outputs": [],
   "source": []
  },
  {
   "cell_type": "code",
   "execution_count": null,
   "metadata": {},
   "outputs": [],
   "source": []
  },
  {
   "cell_type": "code",
   "execution_count": null,
   "metadata": {},
   "outputs": [],
   "source": []
  },
  {
   "cell_type": "code",
   "execution_count": null,
   "metadata": {},
   "outputs": [],
   "source": []
  },
  {
   "cell_type": "code",
   "execution_count": null,
   "metadata": {},
   "outputs": [],
   "source": []
  },
  {
   "cell_type": "code",
   "execution_count": null,
   "metadata": {},
   "outputs": [],
   "source": []
  },
  {
   "cell_type": "code",
   "execution_count": null,
   "metadata": {},
   "outputs": [],
   "source": []
  },
  {
   "cell_type": "code",
   "execution_count": null,
   "metadata": {},
   "outputs": [],
   "source": []
  },
  {
   "cell_type": "code",
   "execution_count": null,
   "metadata": {},
   "outputs": [],
   "source": []
  },
  {
   "cell_type": "code",
   "execution_count": null,
   "metadata": {},
   "outputs": [],
   "source": []
  }
 ],
 "metadata": {
  "kernelspec": {
   "display_name": "Python 3 (ipykernel)",
   "language": "python",
   "name": "python3"
  },
  "language_info": {
   "codemirror_mode": {
    "name": "ipython",
    "version": 3
   },
   "file_extension": ".py",
   "mimetype": "text/x-python",
   "name": "python",
   "nbconvert_exporter": "python",
   "pygments_lexer": "ipython3",
   "version": "3.9.12"
  }
 },
 "nbformat": 4,
 "nbformat_minor": 4
}
