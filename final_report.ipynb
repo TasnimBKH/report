{
 "cells": [
  {
   "cell_type": "code",
   "execution_count": 1,
   "metadata": {},
   "outputs": [],
   "source": [
    "from selenium import webdriver\n",
    "from selenium.webdriver.common.keys import Keys"
   ]
  },
  {
   "cell_type": "code",
   "execution_count": 5,
   "metadata": {},
   "outputs": [
    {
     "name": "stderr",
     "output_type": "stream",
     "text": [
      "<ipython-input-5-39c07bbac8bb>:7: DeprecationWarning: executable_path has been deprecated, please pass in a Service object\n",
      "  driver = webdriver.Chrome(executable_path=\"C:\\chromedriver_win32\\chromedriver.exe\")\n",
      "<ipython-input-5-39c07bbac8bb>:9: DeprecationWarning: find_element_by_name is deprecated. Please use find_element(by=By.NAME, value=name) instead\n",
      "  user_ele=driver.find_element_by_name(\"UserId\")\n",
      "<ipython-input-5-39c07bbac8bb>:12: DeprecationWarning: find_element_by_name is deprecated. Please use find_element(by=By.NAME, value=name) instead\n",
      "  pass_ele=driver.find_element_by_name(\"PasswordString\")\n",
      "<ipython-input-5-39c07bbac8bb>:20: DeprecationWarning: find_element_by_name is deprecated. Please use find_element(by=By.NAME, value=name) instead\n",
      "  pass_ele=driver.find_element_by_name(\"PasswordString\")\n",
      "<ipython-input-5-39c07bbac8bb>:21: DeprecationWarning: find_element_by_* commands are deprecated. Please use find_element() instead\n",
      "  xx=driver.find_element_by_id(\"btnlogin\").click()\n",
      "<ipython-input-5-39c07bbac8bb>:25: DeprecationWarning: find_element_by_name is deprecated. Please use find_element(by=By.NAME, value=name) instead\n",
      "  drp=Select(driver.find_element_by_name(\"ctl00$ddlMenutype\"))\n",
      "<ipython-input-5-39c07bbac8bb>:28: DeprecationWarning: find_element_by_* commands are deprecated. Please use find_element() instead\n",
      "  ser_ele=driver.find_element_by_id(\"txtMenuSearch\")\n",
      "<ipython-input-5-39c07bbac8bb>:33: DeprecationWarning: find_element_by_* commands are deprecated. Please use find_element() instead\n",
      "  acc_ele=driver.find_element_by_id(\"ctl00_contPlcHdrMasterHolder_PACCOUNT_NO\")\n",
      "<ipython-input-5-39c07bbac8bb>:36: DeprecationWarning: find_element_by_name is deprecated. Please use find_element(by=By.NAME, value=name) instead\n",
      "  ok_ele=driver.find_element_by_name(\"ctl00$contPlcHdrMasterHolder$btnOK\").click()\n"
     ]
    },
    {
     "name": "stdout",
     "output_type": "stream",
     "text": [
      "CDwindow-A2D056A7C8135119694CBCA85DBACA3E\n",
      "['CDwindow-A2D056A7C8135119694CBCA85DBACA3E', 'CDwindow-3D66704772EF6411F32F7C3CF461ED1D']\n",
      "::FinUltimus::\n",
      "CDwindow-3D66704772EF6411F32F7C3CF461ED1D\n",
      "after switch ::BANKULTIMUS::\n"
     ]
    },
    {
     "name": "stderr",
     "output_type": "stream",
     "text": [
      "<ipython-input-5-39c07bbac8bb>:56: DeprecationWarning: find_elements_by_tag_name is deprecated. Please use find_elements(by=By.TAG_NAME, value=name) instead\n",
      "  suc_ele=driver.find_elements_by_tag_name('body')\n",
      "<ipython-input-5-39c07bbac8bb>:57: DeprecationWarning: find_elements_by_tag_name is deprecated. Please use find_elements(by=By.TAG_NAME, value=name) instead\n",
      "  fal_ele=driver.find_elements_by_tag_name('form')\n"
     ]
    },
    {
     "name": "stdout",
     "output_type": "stream",
     "text": [
      "success [<selenium.webdriver.remote.webelement.WebElement (session=\"472ab1e6243b71ab5654d5872f526002\", element=\"d837b8a4-0273-49f8-b905-e8718ef785d4\")>]\n",
      "fail 1\n",
      "failed to show report\n",
      "CDwindow-A2D056A7C8135119694CBCA85DBACA3E\n"
     ]
    }
   ],
   "source": [
    "from selenium.webdriver.common.keys import Keys\n",
    "from selenium.webdriver.support.ui import Select\n",
    "from selenium.webdriver import ActionChains\n",
    "\n",
    "\n",
    "\n",
    "driver = webdriver.Chrome(executable_path=\"C:\\chromedriver_win32\\chromedriver.exe\")\n",
    "driver.get(\"http://192.168.20.159/FinUltimusSPARKTEST/\")\n",
    "user_ele=driver.find_element_by_name(\"UserId\")\n",
    "#print(user_ele.is_displayed())\n",
    "#print(user_ele.is_enabled())\n",
    "pass_ele=driver.find_element_by_name(\"PasswordString\")\n",
    "#print(pass_ele.is_displayed())\n",
    "#print(pass_ele.is_enabled())\n",
    "\n",
    "\n",
    "\n",
    "user_ele.send_keys(\"admin1\")\n",
    "pass_ele.send_keys(\"1\")\n",
    "pass_ele=driver.find_element_by_name(\"PasswordString\")\n",
    "xx=driver.find_element_by_id(\"btnlogin\").click()\n",
    "#print(xx.is_displayed())\n",
    "#print(xx.is_enabled())\n",
    "#rpt=driver.find_element_by_name(\"ctl00$ddlMenutype\")\n",
    "drp=Select(driver.find_element_by_name(\"ctl00$ddlMenutype\"))\n",
    "#driver.find_element_by_value(\"R\").click()\n",
    "drp.select_by_value(\"R\")\n",
    "ser_ele=driver.find_element_by_id(\"txtMenuSearch\")\n",
    "ser_ele.send_keys(\"9309\")\n",
    "ser_ele.send_keys(Keys.ENTER)\n",
    "#yy=driver.find_element_by_id(\"btnImgSearch\").click()\n",
    "action = ActionChains(driver)\n",
    "acc_ele=driver.find_element_by_id(\"ctl00_contPlcHdrMasterHolder_PACCOUNT_NO\")\n",
    "acc_ele.send_keys(\"1604604000001\")\n",
    "#.sendKeys(Keys.chord(Keys.ALT, \"O\"))\n",
    "ok_ele=driver.find_element_by_name(\"ctl00$contPlcHdrMasterHolder$btnOK\").click()\n",
    "\n",
    "#a = ActionChains(driver)\n",
    "#a.key_down(Keys.CONTROL).send_keys('O')\n",
    "\n",
    "print(driver.current_window_handle)\n",
    "handle=driver.window_handles\n",
    "\n",
    "print(handle)\n",
    "#x=handle[1]\n",
    "#driver.switch_to.window(\"x\")\n",
    "#print(driver.title())\n",
    "#print(x)\n",
    "#for i in handle:\n",
    "    #print(i.title)\n",
    "print(driver.title)\n",
    "window_after = driver.window_handles[1]\n",
    "print(window_after)\n",
    "driver.switch_to.window(window_after)\n",
    "print(\"after switch\",driver.title)\n",
    "suc_ele=driver.find_elements_by_tag_name('body')\n",
    "fal_ele=driver.find_elements_by_tag_name('form')\n",
    "print(\"success\", fal_ele)\n",
    "print(\"fail\" ,len(fal_ele))\n",
    "if len(fal_ele)==0:\n",
    "    print(\"successfully show the report\")    \n",
    "else:\n",
    "    print(\"failed to show report\")  \n",
    "\n",
    "driver.close()\n",
    "window_before = driver.window_handles[0]\n",
    "driver.switch_to.window(window_before)\n",
    "print(driver.current_window_handle)\n",
    "\n"
   ]
  },
  {
   "cell_type": "markdown",
   "metadata": {},
   "source": [
    "# Read data from excel"
   ]
  },
  {
   "cell_type": "code",
   "execution_count": 6,
   "metadata": {},
   "outputs": [
    {
     "name": "stderr",
     "output_type": "stream",
     "text": [
      "<ipython-input-6-c4b77deac282>:7: DeprecationWarning: executable_path has been deprecated, please pass in a Service object\n",
      "  driver = webdriver.Chrome(executable_path=\"C:\\chromedriver_win32\\chromedriver.exe\")\n",
      "<ipython-input-6-c4b77deac282>:9: DeprecationWarning: find_element_by_name is deprecated. Please use find_element(by=By.NAME, value=name) instead\n",
      "  user_ele=driver.find_element_by_name(\"UserId\")\n",
      "<ipython-input-6-c4b77deac282>:12: DeprecationWarning: find_element_by_name is deprecated. Please use find_element(by=By.NAME, value=name) instead\n",
      "  pass_ele=driver.find_element_by_name(\"PasswordString\")\n",
      "<ipython-input-6-c4b77deac282>:20: DeprecationWarning: find_element_by_name is deprecated. Please use find_element(by=By.NAME, value=name) instead\n",
      "  pass_ele=driver.find_element_by_name(\"PasswordString\")\n",
      "<ipython-input-6-c4b77deac282>:21: DeprecationWarning: find_element_by_* commands are deprecated. Please use find_element() instead\n",
      "  driver.find_element_by_id(\"btnlogin\").click()\n",
      "<ipython-input-6-c4b77deac282>:30: DeprecationWarning: find_element_by_name is deprecated. Please use find_element(by=By.NAME, value=name) instead\n",
      "  drp=Select(driver.find_element_by_name(\"ctl00$ddlMenutype\"))\n",
      "<ipython-input-6-c4b77deac282>:47: DeprecationWarning: find_element_by_* commands are deprecated. Please use find_element() instead\n",
      "  driver.find_element_by_id(\"txtMenuSearch\").clear()\n",
      "<ipython-input-6-c4b77deac282>:48: DeprecationWarning: find_element_by_* commands are deprecated. Please use find_element() instead\n",
      "  ser_ele=driver.find_element_by_id(\"txtMenuSearch\")\n"
     ]
    },
    {
     "name": "stdout",
     "output_type": "stream",
     "text": [
      "9800\n",
      "9302\n"
     ]
    },
    {
     "name": "stderr",
     "output_type": "stream",
     "text": [
      "<ipython-input-6-c4b77deac282>:62: DeprecationWarning: find_element_by_name is deprecated. Please use find_element(by=By.NAME, value=name) instead\n",
      "  acc_ele=driver.find_element_by_name(\"ctl00$contPlcHdrMasterHolder$pHOME_BRANCH_ID\")\n",
      "<ipython-input-6-c4b77deac282>:87: DeprecationWarning: find_element_by_name is deprecated. Please use find_element(by=By.NAME, value=name) instead\n",
      "  ok_ele=driver.find_element_by_name(\"ctl00$contPlcHdrMasterHolder$btnOK\").click()\n"
     ]
    },
    {
     "name": "stdout",
     "output_type": "stream",
     "text": [
      "CDwindow-282E8F6EDEDB203A067D2105580494E7\n"
     ]
    },
    {
     "name": "stderr",
     "output_type": "stream",
     "text": [
      "<ipython-input-6-c4b77deac282>:102: DeprecationWarning: find_elements_by_tag_name is deprecated. Please use find_elements(by=By.TAG_NAME, value=name) instead\n",
      "  suc_ele=driver.find_elements_by_tag_name('body')\n",
      "<ipython-input-6-c4b77deac282>:103: DeprecationWarning: find_elements_by_tag_name is deprecated. Please use find_elements(by=By.TAG_NAME, value=name) instead\n",
      "  fal_ele=driver.find_elements_by_tag_name('form')\n"
     ]
    },
    {
     "name": "stdout",
     "output_type": "stream",
     "text": [
      "9302\n",
      "9830\n"
     ]
    },
    {
     "name": "stderr",
     "output_type": "stream",
     "text": [
      "<ipython-input-6-c4b77deac282>:79: DeprecationWarning: find_element_by_name is deprecated. Please use find_element(by=By.NAME, value=name) instead\n",
      "  ok_ele=driver.find_element_by_name(\"ctl00$contPlcHdrMasterHolder$btnOK\").click()\n"
     ]
    },
    {
     "name": "stdout",
     "output_type": "stream",
     "text": [
      "CDwindow-38F7ED5F3E4130E7FD08C63EF0A48944\n",
      "9830\n"
     ]
    },
    {
     "data": {
      "text/plain": [
       "'\\n\\nif len(fal_ele)==0:\\n    print(\"successfully show the report\")    \\nelse:\\n    print(\"failed to show report\")  \\n\\ndriver.close()\\nwindow_before = driver.window_handles[0]\\ndriver.switch_to.window(window_before)\\nprint(driver.current_window_handle)\\n'"
      ]
     },
     "execution_count": 6,
     "metadata": {},
     "output_type": "execute_result"
    }
   ],
   "source": [
    "from selenium.webdriver.common.keys import Keys\n",
    "from selenium.webdriver.support.ui import Select\n",
    "from selenium.webdriver import ActionChains\n",
    "import openpyxl\n",
    "\n",
    "\n",
    "driver = webdriver.Chrome(executable_path=\"E:\\Software\\chromedriver.exe\")\n",
    "driver.get(\"http://192.168.20.159/FinUltimusSPARKTEST/\")\n",
    "user_ele=driver.find_element_by_name(\"UserId\")\n",
    "#print(user_ele.is_displayed())\n",
    "#print(user_ele.is_enabled())\n",
    "pass_ele=driver.find_element_by_name(\"PasswordString\")\n",
    "#print(pass_ele.is_displayed())\n",
    "#print(pass_ele.is_enabled())\n",
    "\n",
    "\n",
    "\n",
    "user_ele.send_keys(\"admin1\")\n",
    "pass_ele.send_keys(\"1\")\n",
    "pass_ele=driver.find_element_by_name(\"PasswordString\")\n",
    "driver.find_element_by_id(\"btnlogin\").click()\n",
    "\n",
    "\"\"\"\n",
    "print(xx.is_displayed())\n",
    "print(xx.is_enabled())\n",
    "rpt=driver.find_element_by_name(\"ctl00$ddlMenutype\")\n",
    "print\n",
    "\"\"\"\n",
    "\n",
    "drp=Select(driver.find_element_by_name(\"ctl00$ddlMenutype\"))\n",
    "#driver.find_element_by_value(\"R\").click()\n",
    "drp.select_by_value(\"R\")\n",
    "\n",
    "#v_search=9309\n",
    "#v_search2=[9309,9302,9309,9830]\n",
    "path=\"D://result.xlsx\"\n",
    "df=openpyxl.load_workbook(path)\n",
    "sheet=df.active\n",
    "v_search2=[]\n",
    "for i in range(1,sheet.max_row+1): \n",
    "    for j in sheet[i]:\n",
    "        v_search2.append(j.value)\n",
    "v_search2\n",
    "\n",
    "\n",
    "for x in range(len(v_search2)):\n",
    "    driver.find_element_by_id(\"txtMenuSearch\").clear()\n",
    "    ser_ele=driver.find_element_by_id(\"txtMenuSearch\")\n",
    "    k=v_search2[x]\n",
    "    print(k)  \n",
    "    ser_ele.send_keys(k)\n",
    "    ser_ele.send_keys(Keys.ENTER)\n",
    "    \n",
    "    #yy=driver.find_element_by_id(\"btnImgSearch\").click()\n",
    "   # action = ActionChains(driver)\n",
    "    if k==9309:\n",
    "        acc_ele=driver.find_element_by_id(\"ctl00_contPlcHdrMasterHolder_PACCOUNT_NO\")\n",
    "        acc_ele.send_keys(\"1604604000001\")\n",
    "        #.sendKeys(Keys.chord(Keys.ALT, \"O\"))\n",
    "        \n",
    "    elif k==9302:\n",
    "        acc_ele=driver.find_element_by_name(\"ctl00$contPlcHdrMasterHolder$pHOME_BRANCH_ID\")\n",
    "        acc_ele.send_keys(\"0010\")\n",
    "        \n",
    "    elif k==9309:\n",
    "        #acc_ele=driver.find_element_by_name(\"ctl00_contPlcHdrMasterHolder_lblBranch ID\")\n",
    "        #acc_ele.send_keys(\"0010\")\n",
    "        #acc_ele1=driver.find_element_by_name(\"ctl00$contPlcHdrMasterHolder$PPROC_DATE\")\n",
    "        #acc_ele1.send_keys(\"12/05/2021\")\n",
    "        acc_ele=driver.find_element_by_id(\"ctl00_contPlcHdrMasterHolder_PACCOUNT_NO\")\n",
    "        acc_ele.send_keys(\"1604604000001\")\n",
    "    elif k==9830:\n",
    "        \"\"\"\n",
    "        acc_ele=driver.find_element_by_value(\"0010\")\n",
    "        acc_ele.send_keys(\"0010\")\n",
    "        acc_ele1=driver.find_element_by_value(\"12/05/2021\")\n",
    "        acc_ele1.send_keys(\"12/05/2021\")\n",
    "        \"\"\"\n",
    "        ok_ele=driver.find_element_by_name(\"ctl00$contPlcHdrMasterHolder$btnOK\").click()\n",
    "        \n",
    "    else:\n",
    "        #driver.find_element_by_id(\"txtMenuSearch\").clear()\n",
    "        continue\n",
    "       \n",
    "        \n",
    "        \n",
    "    ok_ele=driver.find_element_by_name(\"ctl00$contPlcHdrMasterHolder$btnOK\").click()\n",
    "    #print(driver.current_window_handle)\n",
    "    #handle=driver.window_handles\n",
    "    #print(handle)\n",
    "#x=handle[1]\n",
    "#driver.switch_to.window(\"x\")\n",
    "#print(driver.title())\n",
    "#print(x)\n",
    "#for i in handle:\n",
    "    #print(i.title)\n",
    "    #print(driver.title)\n",
    "    window_after = driver.window_handles[1]\n",
    "    print(window_after)\n",
    "    driver.switch_to.window(window_after)\n",
    "    #print(\"after switch\",driver.title)\n",
    "    suc_ele=driver.find_elements_by_tag_name('body')\n",
    "    fal_ele=driver.find_elements_by_tag_name('form')\n",
    "#print(\"success\", fal_ele)\n",
    "#print(\"fail\" ,len(fal_ele))\n",
    "\n",
    "    print(k)  \n",
    "#data write to excel\n",
    "  \n",
    "    path=\"D://result.xlsx\"\n",
    "    df=openpyxl.load_workbook(path)\n",
    "    sheet=df.active\n",
    "    for i in range(1,20):\n",
    "        for j in range(1,2):\n",
    "            if(sheet.cell(i,j).value==k ):\n",
    "                if len(fal_ele)==0:\n",
    "                    sheet.cell(i,j+1).value=\"ok\"\n",
    "                else:\n",
    "                    sheet.cell(i,j+1).value=\"Failed\"\n",
    "            \n",
    "             \n",
    "   \n",
    "   \n",
    "     \n",
    "    df.save(path)\n",
    "    driver.close()\n",
    "    #driver.refresh()\n",
    "    window_before = driver.window_handles[0]\n",
    "    driver.switch_to.window(window_before)\n",
    "    \n",
    "    \n",
    "    \n",
    "   \n",
    "\n",
    "      #print( v_search2[x])\n",
    "       \n",
    "#a = ActionChains(driver)\n",
    "#a.key_down(Keys.CONTROL).send_keys('O')\n",
    "\n",
    "\n",
    "\"\"\"\n",
    "\n",
    "if len(fal_ele)==0:\n",
    "    print(\"successfully show the report\")    \n",
    "else:\n",
    "    print(\"failed to show report\")  \n",
    "\n",
    "driver.close()\n",
    "window_before = driver.window_handles[0]\n",
    "driver.switch_to.window(window_before)\n",
    "print(driver.current_window_handle)\n",
    "\"\"\""
   ]
  },
  {
   "cell_type": "code",
   "execution_count": null,
   "metadata": {},
   "outputs": [],
   "source": [
    "import openpyxl\n",
    "path=\"D://result.xlsx\"\n",
    "df=openpyxl.load_workbook(path)\n",
    "sheet=df.active\n",
    "for i in range(1,20):\n",
    "    for j in range(1,2):\n",
    "        if(sheet.cell(i,j).value==None ):\n",
    "             sheet.cell(i,j).value=\"Success\"\n",
    "        else:\n",
    "            sheet.cell(i,j).value=\"Failed\"\n",
    "            \n",
    "           \n",
    "        \n",
    "df.save(path)"
   ]
  },
  {
   "cell_type": "code",
   "execution_count": null,
   "metadata": {},
   "outputs": [],
   "source": [
    "v_search2=[9309,9302,444]\n",
    "\n",
    "for x in range(len(v_search2)):\n",
    "    print( v_search2[x])\n",
    " \n",
    "    \n",
    " \n",
    "\n"
   ]
  },
  {
   "cell_type": "code",
   "execution_count": null,
   "metadata": {},
   "outputs": [],
   "source": [
    "for i in range(1,3):\n",
    "    print(i)"
   ]
  },
  {
   "cell_type": "code",
   "execution_count": 7,
   "metadata": {},
   "outputs": [
    {
     "ename": "AttributeError",
     "evalue": "'tuple' object has no attribute 'value'",
     "output_type": "error",
     "traceback": [
      "\u001b[1;31m---------------------------------------------------------------------------\u001b[0m",
      "\u001b[1;31mAttributeError\u001b[0m                            Traceback (most recent call last)",
      "\u001b[1;32m<ipython-input-7-d9ec7e56781c>\u001b[0m in \u001b[0;36m<module>\u001b[1;34m\u001b[0m\n\u001b[0;32m      4\u001b[0m \u001b[0msheet\u001b[0m\u001b[1;33m=\u001b[0m\u001b[0mdf\u001b[0m\u001b[1;33m.\u001b[0m\u001b[0mactive\u001b[0m\u001b[1;33m\u001b[0m\u001b[1;33m\u001b[0m\u001b[0m\n\u001b[0;32m      5\u001b[0m \u001b[1;32mfor\u001b[0m \u001b[0mi\u001b[0m \u001b[1;32min\u001b[0m \u001b[0mrange\u001b[0m\u001b[1;33m(\u001b[0m\u001b[1;36m1\u001b[0m\u001b[1;33m,\u001b[0m\u001b[0msheet\u001b[0m\u001b[1;33m.\u001b[0m\u001b[0mmax_row\u001b[0m\u001b[1;33m+\u001b[0m\u001b[1;36m1\u001b[0m\u001b[1;33m)\u001b[0m\u001b[1;33m:\u001b[0m\u001b[1;33m\u001b[0m\u001b[1;33m\u001b[0m\u001b[0m\n\u001b[1;32m----> 6\u001b[1;33m     \u001b[0mv_search2\u001b[0m\u001b[1;33m=\u001b[0m\u001b[0msheet\u001b[0m\u001b[1;33m[\u001b[0m\u001b[0mi\u001b[0m\u001b[1;33m]\u001b[0m\u001b[1;33m.\u001b[0m\u001b[0mvalue\u001b[0m\u001b[1;33m\u001b[0m\u001b[1;33m\u001b[0m\u001b[0m\n\u001b[0m\u001b[0;32m      7\u001b[0m    \u001b[1;31m# for j in sheet[i]:\u001b[0m\u001b[1;33m\u001b[0m\u001b[1;33m\u001b[0m\u001b[1;33m\u001b[0m\u001b[0m\n\u001b[0;32m      8\u001b[0m \u001b[1;33m\u001b[0m\u001b[0m\n",
      "\u001b[1;31mAttributeError\u001b[0m: 'tuple' object has no attribute 'value'"
     ]
    }
   ],
   "source": [
    "import openpyxl\n",
    "path=\"D://result.xlsx\"\n",
    "df=openpyxl.load_workbook(path)\n",
    "sheet=df.active\n",
    "for i in range(1,sheet.max_row+1):\n",
    "    v_search2=sheet[i].value\n",
    "   # for j in sheet[i]:\n",
    "\n",
    "print(v_search2)"
   ]
  },
  {
   "cell_type": "code",
   "execution_count": 28,
   "metadata": {},
   "outputs": [
    {
     "name": "stdout",
     "output_type": "stream",
     "text": [
      "[9800, None, 9302, 'ok', 9830, 'ok']\n"
     ]
    }
   ],
   "source": [
    "import openpyxl\n",
    "path=\"D://result.xlsx\"\n",
    "df=openpyxl.load_workbook(path)\n",
    "sheet=df.active\n",
    "v_search2=[]\n",
    "for i in range(1,sheet.max_row+1): \n",
    "    for j in sheet[i]:\n",
    "        v_search2.append(j.value)\n",
    "\n",
    "print(v_search2)"
   ]
  },
  {
   "cell_type": "markdown",
   "metadata": {},
   "source": [
    "# Read perameter from excel\n"
   ]
  },
  {
   "cell_type": "code",
   "execution_count": 10,
   "metadata": {},
   "outputs": [
    {
     "name": "stderr",
     "output_type": "stream",
     "text": [
      "<ipython-input-10-fb0bf47ab25d>:7: DeprecationWarning: executable_path has been deprecated, please pass in a Service object\n",
      "  driver = webdriver.Chrome(executable_path=\"C:\\chromedriver_win32\\chromedriver.exe\")\n",
      "<ipython-input-10-fb0bf47ab25d>:9: DeprecationWarning: find_element_by_name is deprecated. Please use find_element(by=By.NAME, value=name) instead\n",
      "  user_ele=driver.find_element_by_name(\"UserId\")\n",
      "<ipython-input-10-fb0bf47ab25d>:12: DeprecationWarning: find_element_by_name is deprecated. Please use find_element(by=By.NAME, value=name) instead\n",
      "  pass_ele=driver.find_element_by_name(\"PasswordString\")\n",
      "<ipython-input-10-fb0bf47ab25d>:20: DeprecationWarning: find_element_by_name is deprecated. Please use find_element(by=By.NAME, value=name) instead\n",
      "  pass_ele=driver.find_element_by_name(\"PasswordString\")\n",
      "<ipython-input-10-fb0bf47ab25d>:21: DeprecationWarning: find_element_by_* commands are deprecated. Please use find_element() instead\n",
      "  driver.find_element_by_id(\"btnlogin\").click()\n",
      "<ipython-input-10-fb0bf47ab25d>:30: DeprecationWarning: find_element_by_name is deprecated. Please use find_element(by=By.NAME, value=name) instead\n",
      "  drp=Select(driver.find_element_by_name(\"ctl00$ddlMenutype\"))\n",
      "<ipython-input-10-fb0bf47ab25d>:47: DeprecationWarning: find_element_by_* commands are deprecated. Please use find_element() instead\n",
      "  driver.find_element_by_id(\"txtMenuSearch\").clear()\n",
      "<ipython-input-10-fb0bf47ab25d>:48: DeprecationWarning: find_element_by_* commands are deprecated. Please use find_element() instead\n",
      "  ser_ele=driver.find_element_by_id(\"txtMenuSearch\")\n"
     ]
    },
    {
     "name": "stdout",
     "output_type": "stream",
     "text": [
      "9800\n",
      "None\n"
     ]
    },
    {
     "ename": "TypeError",
     "evalue": "object of type 'NoneType' has no len()",
     "output_type": "error",
     "traceback": [
      "\u001b[1;31m---------------------------------------------------------------------------\u001b[0m",
      "\u001b[1;31mTypeError\u001b[0m                                 Traceback (most recent call last)",
      "\u001b[1;32m<ipython-input-10-fb0bf47ab25d>\u001b[0m in \u001b[0;36m<module>\u001b[1;34m\u001b[0m\n\u001b[0;32m     49\u001b[0m     \u001b[0mk\u001b[0m\u001b[1;33m=\u001b[0m\u001b[0mv_search2\u001b[0m\u001b[1;33m[\u001b[0m\u001b[0mx\u001b[0m\u001b[1;33m]\u001b[0m\u001b[1;33m\u001b[0m\u001b[1;33m\u001b[0m\u001b[0m\n\u001b[0;32m     50\u001b[0m     \u001b[0mprint\u001b[0m\u001b[1;33m(\u001b[0m\u001b[0mk\u001b[0m\u001b[1;33m)\u001b[0m\u001b[1;33m\u001b[0m\u001b[1;33m\u001b[0m\u001b[0m\n\u001b[1;32m---> 51\u001b[1;33m     \u001b[0mser_ele\u001b[0m\u001b[1;33m.\u001b[0m\u001b[0msend_keys\u001b[0m\u001b[1;33m(\u001b[0m\u001b[0mk\u001b[0m\u001b[1;33m)\u001b[0m\u001b[1;33m\u001b[0m\u001b[1;33m\u001b[0m\u001b[0m\n\u001b[0m\u001b[0;32m     52\u001b[0m     \u001b[0mser_ele\u001b[0m\u001b[1;33m.\u001b[0m\u001b[0msend_keys\u001b[0m\u001b[1;33m(\u001b[0m\u001b[0mKeys\u001b[0m\u001b[1;33m.\u001b[0m\u001b[0mENTER\u001b[0m\u001b[1;33m)\u001b[0m\u001b[1;33m\u001b[0m\u001b[1;33m\u001b[0m\u001b[0m\n\u001b[0;32m     53\u001b[0m \u001b[1;33m\u001b[0m\u001b[0m\n",
      "\u001b[1;32m~\\AppData\\Roaming\\Python\\Python38\\site-packages\\selenium\\webdriver\\remote\\webelement.py\u001b[0m in \u001b[0;36msend_keys\u001b[1;34m(self, *value)\u001b[0m\n\u001b[0;32m    599\u001b[0m \u001b[1;33m\u001b[0m\u001b[0m\n\u001b[0;32m    600\u001b[0m         self._execute(Command.SEND_KEYS_TO_ELEMENT,\n\u001b[1;32m--> 601\u001b[1;33m                       {'text': \"\".join(keys_to_typing(value)),\n\u001b[0m\u001b[0;32m    602\u001b[0m                        'value': keys_to_typing(value)})\n\u001b[0;32m    603\u001b[0m \u001b[1;33m\u001b[0m\u001b[0m\n",
      "\u001b[1;32m~\\AppData\\Roaming\\Python\\Python38\\site-packages\\selenium\\webdriver\\common\\utils.py\u001b[0m in \u001b[0;36mkeys_to_typing\u001b[1;34m(value)\u001b[0m\n\u001b[0;32m    146\u001b[0m                 \u001b[0mtyping\u001b[0m\u001b[1;33m.\u001b[0m\u001b[0mappend\u001b[0m\u001b[1;33m(\u001b[0m\u001b[0mval\u001b[0m\u001b[1;33m[\u001b[0m\u001b[0mi\u001b[0m\u001b[1;33m]\u001b[0m\u001b[1;33m)\u001b[0m\u001b[1;33m\u001b[0m\u001b[1;33m\u001b[0m\u001b[0m\n\u001b[0;32m    147\u001b[0m         \u001b[1;32melse\u001b[0m\u001b[1;33m:\u001b[0m\u001b[1;33m\u001b[0m\u001b[1;33m\u001b[0m\u001b[0m\n\u001b[1;32m--> 148\u001b[1;33m             \u001b[1;32mfor\u001b[0m \u001b[0mi\u001b[0m \u001b[1;32min\u001b[0m \u001b[0mrange\u001b[0m\u001b[1;33m(\u001b[0m\u001b[0mlen\u001b[0m\u001b[1;33m(\u001b[0m\u001b[0mval\u001b[0m\u001b[1;33m)\u001b[0m\u001b[1;33m)\u001b[0m\u001b[1;33m:\u001b[0m\u001b[1;33m\u001b[0m\u001b[1;33m\u001b[0m\u001b[0m\n\u001b[0m\u001b[0;32m    149\u001b[0m                 \u001b[0mtyping\u001b[0m\u001b[1;33m.\u001b[0m\u001b[0mappend\u001b[0m\u001b[1;33m(\u001b[0m\u001b[0mval\u001b[0m\u001b[1;33m[\u001b[0m\u001b[0mi\u001b[0m\u001b[1;33m]\u001b[0m\u001b[1;33m)\u001b[0m\u001b[1;33m\u001b[0m\u001b[1;33m\u001b[0m\u001b[0m\n\u001b[0;32m    150\u001b[0m     \u001b[1;32mreturn\u001b[0m \u001b[0mtyping\u001b[0m\u001b[1;33m\u001b[0m\u001b[1;33m\u001b[0m\u001b[0m\n",
      "\u001b[1;31mTypeError\u001b[0m: object of type 'NoneType' has no len()"
     ]
    }
   ],
   "source": [
    "from selenium.webdriver.common.keys import Keys\n",
    "from selenium.webdriver.support.ui import Select\n",
    "from selenium.webdriver import ActionChains\n",
    "import openpyxl\n",
    "\n",
    "\n",
    "driver = webdriver.Chrome(executable_path=\"C:\\chromedriver_win32\\chromedriver.exe\")\n",
    "driver.get(\"http://192.168.20.159/FinUltimusSPARKTEST/\")\n",
    "user_ele=driver.find_element_by_name(\"UserId\")\n",
    "#print(user_ele.is_displayed())\n",
    "#print(user_ele.is_enabled())\n",
    "pass_ele=driver.find_element_by_name(\"PasswordString\")\n",
    "#print(pass_ele.is_displayed())\n",
    "#print(pass_ele.is_enabled())\n",
    "\n",
    "\n",
    "\n",
    "user_ele.send_keys(\"admin1\")\n",
    "pass_ele.send_keys(\"1\")\n",
    "pass_ele=driver.find_element_by_name(\"PasswordString\")\n",
    "driver.find_element_by_id(\"btnlogin\").click()\n",
    "\n",
    "\"\"\"\n",
    "print(xx.is_displayed())\n",
    "print(xx.is_enabled())\n",
    "rpt=driver.find_element_by_name(\"ctl00$ddlMenutype\")\n",
    "print\n",
    "\"\"\"\n",
    "\n",
    "drp=Select(driver.find_element_by_name(\"ctl00$ddlMenutype\"))\n",
    "#driver.find_element_by_value(\"R\").click()\n",
    "drp.select_by_value(\"R\")\n",
    "\n",
    "#v_search=9309\n",
    "#v_search2=[9309,9302,9309,9830]\n",
    "path=\"D://result.xlsx\"\n",
    "df=openpyxl.load_workbook(path)\n",
    "sheet=df.active\n",
    "v_search2=[]\n",
    "for i in range(1,sheet.max_row+1): \n",
    "    for j in sheet[i]:\n",
    "        v_search2.append(j.value)\n",
    "v_search2\n",
    "\n",
    "\n",
    "for x in range(len(v_search2)):\n",
    "    driver.find_element_by_id(\"txtMenuSearch\").clear()\n",
    "    ser_ele=driver.find_element_by_id(\"txtMenuSearch\")\n",
    "    k=v_search2[x]\n",
    "    print(k)  \n",
    "    ser_ele.send_keys(k)\n",
    "    ser_ele.send_keys(Keys.ENTER)\n",
    "    \n",
    "    \n",
    "    #yy=driver.find_element_by_id(\"btnImgSearch\").click()\n",
    "   # action = ActionChains(driver)\n",
    "    \n",
    "\n",
    "    if k==9309:\n",
    "        acc_ele=driver.find_element_by_id(\"ctl00_contPlcHdrMasterHolder_PACCOUNT_NO\")\n",
    "        acc_ele.send_keys(\"1604604000001\")\n",
    "        #.sendKeys(Keys.chord(Keys.ALT, \"O\"))\n",
    "        \n",
    "    elif k==9302:\n",
    "        acc_ele=driver.find_element_by_name(\"ctl00$contPlcHdrMasterHolder$pHOME_BRANCH_ID\")\n",
    "        acc_ele.send_keys(\"0010\")\n",
    "        \n",
    "    elif k==9309:\n",
    "        #acc_ele=driver.find_element_by_name(\"ctl00_contPlcHdrMasterHolder_lblBranch ID\")\n",
    "        #acc_ele.send_keys(\"0010\")\n",
    "        #acc_ele1=driver.find_element_by_name(\"ctl00$contPlcHdrMasterHolder$PPROC_DATE\")\n",
    "        #acc_ele1.send_keys(\"12/05/2021\")\n",
    "        acc_ele=driver.find_element_by_id(\"ctl00_contPlcHdrMasterHolder_PACCOUNT_NO\")\n",
    "        acc_ele.send_keys(\"1604604000001\")\n",
    "    elif k==9830:\n",
    "        \"\"\"\n",
    "        acc_ele=driver.find_element_by_value(\"0010\")\n",
    "        acc_ele.send_keys(\"0010\")\n",
    "        acc_ele1=driver.find_element_by_value(\"12/05/2021\")\n",
    "        acc_ele1.send_keys(\"12/05/2021\")\n",
    "        \"\"\"\n",
    "        ok_ele=driver.find_element_by_name(\"ctl00$contPlcHdrMasterHolder$btnOK\").click()\n",
    "        \n",
    "    else:\n",
    "        #driver.find_element_by_id(\"txtMenuSearch\").clear()\n",
    "        continue\n",
    "       \n",
    "        \n",
    "        \n",
    "    ok_ele=driver.find_element_by_name(\"ctl00$contPlcHdrMasterHolder$btnOK\").click()\n",
    "    #print(driver.current_window_handle)\n",
    "    #handle=driver.window_handles\n",
    "    #print(handle)\n",
    "#x=handle[1]\n",
    "#driver.switch_to.window(\"x\")\n",
    "#print(driver.title())\n",
    "#print(x)\n",
    "#for i in handle:\n",
    "    #print(i.title)\n",
    "    #print(driver.title)\n",
    "    window_after = driver.window_handles[1]\n",
    "    print(window_after)\n",
    "    driver.switch_to.window(window_after)\n",
    "    #print(\"after switch\",driver.title)\n",
    "    suc_ele=driver.find_elements_by_tag_name('body')\n",
    "    fal_ele=driver.find_elements_by_tag_name('form')\n",
    "#print(\"success\", fal_ele)\n",
    "#print(\"fail\" ,len(fal_ele))\n",
    "\n",
    "    print(k)  \n",
    "#data write to excel\n",
    "  \n",
    "    path=\"D://result.xlsx\"\n",
    "    df=openpyxl.load_workbook(path)\n",
    "    sheet=df.active\n",
    "    for i in range(1,20):\n",
    "        for j in range(1,2):\n",
    "            if(sheet.cell(i,j).value==k ):\n",
    "                if len(fal_ele)==0:\n",
    "                    sheet.cell(i,j+1).value=\"ok\"\n",
    "                else:\n",
    "                    sheet.cell(i,j+1).value=\"Failed\"\n",
    "            \n",
    "             \n",
    "   \n",
    "   \n",
    "     \n",
    "    df.save(path)\n",
    "    driver.close()\n",
    "    #driver.refresh()\n",
    "    window_before = driver.window_handles[0]\n",
    "    driver.switch_to.window(window_before)\n",
    "    \n",
    "    \n",
    "    \n",
    "   \n",
    "\n",
    "      #print( v_search2[x])\n",
    "       \n",
    "#a = ActionChains(driver)\n",
    "#a.key_down(Keys.CONTROL).send_keys('O')\n",
    "\n",
    "\n",
    "\"\"\"\n",
    "\n",
    "if len(fal_ele)==0:\n",
    "    print(\"successfully show the report\")    \n",
    "else:\n",
    "    print(\"failed to show report\")  \n",
    "\n",
    "driver.close()\n",
    "window_before = driver.window_handles[0]\n",
    "driver.switch_to.window(window_before)\n",
    "print(driver.current_window_handle)\n",
    "\"\"\""
   ]
  },
  {
   "cell_type": "code",
   "execution_count": null,
   "metadata": {},
   "outputs": [],
   "source": []
  },
  {
   "cell_type": "code",
   "execution_count": 102,
   "metadata": {},
   "outputs": [
    {
     "name": "stdout",
     "output_type": "stream",
     "text": [
      "3\n",
      "['y', 'x']\n",
      "bye\n",
      "bye\n",
      "bye\n",
      "[9309]\n"
     ]
    }
   ],
   "source": [
    "import openpyxl\n",
    "path=\"D://xxxx.xlsx\"\n",
    "df=openpyxl.load_workbook(path)\n",
    "\n",
    "sheet=df.active\n",
    "df2=df['y']\n",
    "df1=df['x']\n",
    "print(df2.max_row)\n",
    "print(df.sheetnames)\n",
    "v_search2=[]\n",
    "for i in range(2,df2.max_row): \n",
    "     for j in df2[i]:\n",
    "            #print(j.value)\n",
    "            if j.value==9309:\n",
    "                  v_search2.append(j.value)\n",
    "            else:\n",
    "                print(\"bye\")\n",
    "                \n",
    "                               \n",
    "print(v_search2)"
   ]
  },
  {
   "cell_type": "code",
   "execution_count": 6,
   "metadata": {},
   "outputs": [
    {
     "name": "stdout",
     "output_type": "stream",
     "text": [
      "2 1\n",
      "ok\n",
      "ctl00_contPlcHdrMasterHolder_PACCOUNT_NO\n",
      "160460400000111\n"
     ]
    }
   ],
   "source": [
    "import openpyxl\n",
    "path=\"E://Selenium//xxxx.xlsx\"\n",
    "df=openpyxl.load_workbook(path)\n",
    "\n",
    "sheet=df.active\n",
    "df2=df['y']\n",
    "x=[]\n",
    "i=9309\n",
    "for i in range(2,df2.max_row+1):\n",
    "    for j in range(1,2):\n",
    "        c=df2.cell(row=i,column=j)\n",
    "        print(i,j)\n",
    "        if c.value==9309:\n",
    "            \n",
    "            print('ok')\n",
    "            d=df2.cell(row=i,column=j+2)\n",
    "            print(d.value)\n",
    "            e=df2.cell(row=i,column=j+3)\n",
    "            print(e.value)\n",
    "            \n",
    "        #print(c.value)\n",
    "    \n"
   ]
  },
  {
   "cell_type": "code",
   "execution_count": null,
   "metadata": {},
   "outputs": [],
   "source": []
  },
  {
   "cell_type": "code",
   "execution_count": null,
   "metadata": {},
   "outputs": [],
   "source": []
  },
  {
   "cell_type": "code",
   "execution_count": null,
   "metadata": {},
   "outputs": [],
   "source": []
  },
  {
   "cell_type": "code",
   "execution_count": null,
   "metadata": {},
   "outputs": [],
   "source": []
  },
  {
   "cell_type": "code",
   "execution_count": null,
   "metadata": {},
   "outputs": [],
   "source": []
  },
  {
   "cell_type": "markdown",
   "metadata": {},
   "source": [
    "## import openpyxl\n",
    "path=\"D://xxxx.xlsx\"\n",
    "df=openpyxl.load_workbook(path)\n",
    "#df=df['y']\n",
    "sheet=df.active\n",
    "v_search2=[]\n",
    "for i in range(1,sheet.max_row+1): \n",
    "    for j in sheet[i]:\n",
    "        v_search2.append(j.value)\n",
    "\n",
    "print(v_search2)"
   ]
  },
  {
   "cell_type": "code",
   "execution_count": null,
   "metadata": {},
   "outputs": [],
   "source": []
  },
  {
   "cell_type": "code",
   "execution_count": 50,
   "metadata": {},
   "outputs": [
    {
     "name": "stdout",
     "output_type": "stream",
     "text": [
      "(<Cell 'x'.Y1>,)\n"
     ]
    }
   ],
   "source": [
    "import openpyxl\n",
    "path=\"D://xxxx.xlsx\"\n",
    "df=openpyxl.load_workbook(path)\n",
    "#df=df['y']\n",
    "sheet=df.active\n",
    "df2=sheet['y']\n",
    "\n",
    "#print(df.sheetnames)\n",
    "print(df2)\n"
   ]
  },
  {
   "cell_type": "code",
   "execution_count": 47,
   "metadata": {},
   "outputs": [
    {
     "data": {
      "text/html": [
       "<div>\n",
       "<style scoped>\n",
       "    .dataframe tbody tr th:only-of-type {\n",
       "        vertical-align: middle;\n",
       "    }\n",
       "\n",
       "    .dataframe tbody tr th {\n",
       "        vertical-align: top;\n",
       "    }\n",
       "\n",
       "    .dataframe thead th {\n",
       "        text-align: right;\n",
       "    }\n",
       "</style>\n",
       "<table border=\"1\" class=\"dataframe\">\n",
       "  <thead>\n",
       "    <tr style=\"text-align: right;\">\n",
       "      <th></th>\n",
       "      <th>Fast_path</th>\n",
       "      <th>Field_name</th>\n",
       "      <th>Field_id</th>\n",
       "      <th>Field_ value</th>\n",
       "    </tr>\n",
       "  </thead>\n",
       "  <tbody>\n",
       "    <tr>\n",
       "      <th>0</th>\n",
       "      <td>9309</td>\n",
       "      <td>Account_No</td>\n",
       "      <td>ctl00_contPlcHdrMasterHolder_PACCOUNT_NO</td>\n",
       "      <td>1604604000001</td>\n",
       "    </tr>\n",
       "    <tr>\n",
       "      <th>1</th>\n",
       "      <td>9302</td>\n",
       "      <td>Branch_id</td>\n",
       "      <td>ctl00$contPlcHdrMasterHolder$pHOME_BRANCH_ID</td>\n",
       "      <td>10</td>\n",
       "    </tr>\n",
       "  </tbody>\n",
       "</table>\n",
       "</div>"
      ],
      "text/plain": [
       "   Fast_path  Field_name                                      Field_id  \\\n",
       "0       9309  Account_No      ctl00_contPlcHdrMasterHolder_PACCOUNT_NO   \n",
       "1       9302   Branch_id  ctl00$contPlcHdrMasterHolder$pHOME_BRANCH_ID   \n",
       "\n",
       "    Field_ value  \n",
       "0  1604604000001  \n",
       "1             10  "
      ]
     },
     "execution_count": 47,
     "metadata": {},
     "output_type": "execute_result"
    }
   ],
   "source": [
    "import pandas as pd\n",
    "xls = pd.ExcelFile('D://xxxx.xlsx')\n",
    "df1 = pd.read_excel(xls, 'y')\n",
    "df1\n"
   ]
  },
  {
   "cell_type": "code",
   "execution_count": null,
   "metadata": {},
   "outputs": [],
   "source": []
  },
  {
   "cell_type": "code",
   "execution_count": null,
   "metadata": {},
   "outputs": [],
   "source": []
  },
  {
   "cell_type": "code",
   "execution_count": null,
   "metadata": {},
   "outputs": [],
   "source": []
  },
  {
   "cell_type": "code",
   "execution_count": null,
   "metadata": {},
   "outputs": [],
   "source": []
  },
  {
   "cell_type": "code",
   "execution_count": null,
   "metadata": {},
   "outputs": [],
   "source": []
  },
  {
   "cell_type": "code",
   "execution_count": null,
   "metadata": {},
   "outputs": [],
   "source": []
  }
 ],
 "metadata": {
  "kernelspec": {
   "display_name": "Python 3 (ipykernel)",
   "language": "python",
   "name": "python3"
  },
  "language_info": {
   "codemirror_mode": {
    "name": "ipython",
    "version": 3
   },
   "file_extension": ".py",
   "mimetype": "text/x-python",
   "name": "python",
   "nbconvert_exporter": "python",
   "pygments_lexer": "ipython3",
   "version": "3.9.12"
  }
 },
 "nbformat": 4,
 "nbformat_minor": 4
}
